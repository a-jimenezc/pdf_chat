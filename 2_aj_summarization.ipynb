{
 "cells": [
  {
   "cell_type": "code",
   "execution_count": 1,
   "metadata": {},
   "outputs": [],
   "source": [
    "import gensim\n",
    "import nltk\n",
    "from gensim import corpora\n",
    "from gensim.models import LdaModel\n",
    "from gensim.utils import simple_preprocess\n",
    "from nltk.corpus import stopwords\n",
    "from pypdf import PdfReader\n",
    "\n",
    "def get_topics_from_pdf(file, num_topics, words_per_topic):\n",
    "    \"\"\"\n",
    "    Uses LDA algoritm for topic discovery\n",
    "    Returns: list of num_topics lists with relevant words for each topic (nested list).\n",
    "    \"\"\"\n",
    "\n",
    "\n",
    "    loader = PdfReader(file)\n",
    "\n",
    "    documents= []\n",
    "    for page in loader.pages:\n",
    "        documents.append(page.extract_text())\n",
    "\n",
    "    # Preprocess the documents\n",
    "    nltk.download('stopwords')\n",
    "    stop_words = set(stopwords.words(['english','spanish']))\n",
    "\n",
    "    def preprocess(text):\n",
    "        result = []\n",
    "        for token in simple_preprocess(text, deacc=True):\n",
    "            if token not in stop_words and len(token) > 3:\n",
    "                result.append(token)\n",
    "        return result\n",
    "\n",
    "    processed_documents = [preprocess(doc) for doc in documents]\n",
    "\n",
    "    # Create a dictionary and a corpus\n",
    "    dictionary = corpora.Dictionary(processed_documents)\n",
    "    corpus = [dictionary.doc2bow(doc) for doc in processed_documents]\n",
    "\n",
    "    # Build the LDA model\n",
    "    lda_model = LdaModel(corpus, num_topics=num_topics, id2word=dictionary, passes=15)\n",
    "\n",
    "    # Print the topics and their corresponding words\n",
    "    topics = lda_model.print_topics(num_words=words_per_topic)\n",
    "    topics_ls = []\n",
    "    for topic in topics:\n",
    "        words = topic[1].split(\"+\")\n",
    "        topic_words = [word.split(\"*\")[1].replace('\"', '').strip() for word in words]\n",
    "        topics_ls.append(topic_words)\n",
    "        \n",
    "    return topics_ls"
   ]
  },
  {
   "cell_type": "code",
   "execution_count": 2,
   "metadata": {},
   "outputs": [
    {
     "name": "stderr",
     "output_type": "stream",
     "text": [
      "[nltk_data] Downloading package stopwords to\n",
      "[nltk_data]     C:\\Users\\anton_glfk00f\\AppData\\Roaming\\nltk_data...\n",
      "[nltk_data]   Package stopwords is already up-to-date!\n"
     ]
    }
   ],
   "source": [
    "from src import get_topics_from_pdf\n",
    "file = \"Philip Kotler, Gary Armstrong - Marketing_ Versión latinoamerica (2007).pdf\"\n",
    "file = \"PROGRAMA ANALITICO MÓDULO.pdf\"\n",
    "num_topics = 7\n",
    "words_per_topic = 30\n",
    "\n",
    "list_of_topicwords = get_topics_from_pdf(file, num_topics, words_per_topic)"
   ]
  },
  {
   "cell_type": "code",
   "execution_count": 3,
   "metadata": {},
   "outputs": [
    {
     "name": "stderr",
     "output_type": "stream",
     "text": [
      "[nltk_data] Downloading package stopwords to\n",
      "[nltk_data]     C:\\Users\\anton_glfk00f\\AppData\\Roaming\\nltk_data...\n",
      "[nltk_data]   Package stopwords is already up-to-date!\n"
     ]
    },
    {
     "name": "stdout",
     "output_type": "stream",
     "text": [
      "['marketing', 'brand', 'advertising', 'sales', 'media', 'campaign', 'product', 'company', 'people', 'world', 'indd', 'costs', 'cost', 'percent', 'digital', 'million', 'market', 'social', 'example', 'brands', 'also', 'even', 'year', 'consumers', 'products', 'content', 'time', 'consumer', 'like', 'customer']\n",
      "['price', 'pricing', 'prices', 'product', 'market', 'products', 'company', 'value', 'customers', 'companies', 'consumers', 'business', 'buying', 'indd', 'example', 'many', 'customer', 'competitors', 'consumer', 'even', 'high', 'must', 'marketing', 'based', 'buyers', 'brand', 'strategy', 'costs', 'demand', 'also']\n",
      "['customer', 'sales', 'customers', 'brand', 'product', 'products', 'online', 'marketing', 'consumers', 'company', 'brands', 'store', 'digital', 'service', 'example', 'indd', 'value', 'consumer', 'companies', 'many', 'also', 'retailers', 'media', 'mobile', 'social', 'selling', 'time', 'services', 'stores', 'people']\n",
      "['https', 'accessed', 'marketing', 'september', 'news', 'data', 'business', 'html', 'october', 'january', 'february', 'forbes', 'march', 'blog', 'april', 'world', 'december', 'june', 'research', 'information', 'statistics', 'http', 'brands', 'insights', 'article', 'november', 'global', 'indd', 'amazon', 'market']\n",
      "['global', 'company', 'markets', 'marketing', 'companies', 'market', 'product', 'countries', 'products', 'world', 'indd', 'example', 'country', 'local', 'also', 'many', 'services', 'starbucks', 'india', 'trade', 'must', 'percent', 'international', 'stores', 'customers', 'united', 'home', 'china', 'strategy', 'across']\n",
      "['marketing', 'customer', 'company', 'value', 'market', 'customers', 'business', 'channel', 'product', 'social', 'companies', 'digital', 'indd', 'consumer', 'information', 'research', 'strategy', 'must', 'products', 'data', 'also', 'consumers', 'media', 'objective', 'management', 'strategies', 'needs', 'communication', 'process', 'chapter']\n",
      "['media', 'products', 'company', 'product', 'percent', 'sales', 'million', 'marketing', 'market', 'social', 'indd', 'brand', 'google', 'example', 'instagram', 'brands', 'people', 'year', 'content', 'many', 'facebook', 'also', 'water', 'wise', 'domotics', 'even', 'consumers', 'like', 'companies', 'world']\n"
     ]
    }
   ],
   "source": [
    "import gensim\n",
    "import nltk\n",
    "from gensim import corpora\n",
    "from gensim.models import LdaModel\n",
    "from gensim.utils import simple_preprocess\n",
    "from nltk.corpus import stopwords\n",
    "from pypdf import PdfReader\n",
    "\n",
    "#file = \"Philip Kotler, Gary Armstrong - Marketing_ Versión latinoamerica (2007).pdf\"\n",
    "file = \"Philip Kotler, Gary Armstrong, Sridhar Balasubramanian - Principles of Marketing-Pearson (2023).pdf\"\n",
    "loader = PdfReader(file)\n",
    "\n",
    "documents= []\n",
    "for page in loader.pages:\n",
    "    documents.append(page.extract_text())\n",
    "\n",
    "# Preprocess the documents\n",
    "nltk.download('stopwords')\n",
    "stop_words = set(stopwords.words(['english','spanish']))\n",
    "\n",
    "def preprocess(text):\n",
    "    result = []\n",
    "    for token in simple_preprocess(text, deacc=True):\n",
    "        if token not in stop_words and len(token) > 3:\n",
    "            result.append(token)\n",
    "    return result\n",
    "\n",
    "processed_documents = [preprocess(doc) for doc in documents]\n",
    "\n",
    "# Create a dictionary and a corpus\n",
    "dictionary = corpora.Dictionary(processed_documents)\n",
    "corpus = [dictionary.doc2bow(doc) for doc in processed_documents]\n",
    "\n",
    "# Build the LDA model\n",
    "lda_model = LdaModel(corpus, num_topics=7, id2word=dictionary, passes=15)\n",
    "\n",
    "# Print the topics and their corresponding words\n",
    "topics = lda_model.print_topics(num_words=30)\n",
    "topics_ls = []\n",
    "for topic in topics:\n",
    "    words = topic[1].split(\"+\")\n",
    "    topic_words = [word.split(\"*\")[1].replace('\"', '').strip() for word in words]\n",
    "    print(topic_words)\n"
   ]
  },
  {
   "cell_type": "code",
   "execution_count": null,
   "metadata": {},
   "outputs": [],
   "source": [
    "from src import get_topics_from_pdf\n",
    "file = \"Philip Kotler, Gary Armstrong - Marketing_ Versión latinoamerica (2007).pdf\"\n",
    "file = \"PROGRAMA ANALITICO MÓDULO.pdf\"\n",
    "num_topics = 7\n",
    "words_per_topic = 30\n",
    "\n",
    "list_of_topicwords = get_topics_from_pdf(file, num_topics, words_per_topic)"
   ]
  },
  {
   "cell_type": "code",
   "execution_count": null,
   "metadata": {},
   "outputs": [],
   "source": [
    "my_string = str(my_list)"
   ]
  }
 ],
 "metadata": {
  "kernelspec": {
   "display_name": "llm_app_env",
   "language": "python",
   "name": "python3"
  },
  "language_info": {
   "codemirror_mode": {
    "name": "ipython",
    "version": 3
   },
   "file_extension": ".py",
   "mimetype": "text/x-python",
   "name": "python",
   "nbconvert_exporter": "python",
   "pygments_lexer": "ipython3",
   "version": "3.10.12"
  },
  "orig_nbformat": 4
 },
 "nbformat": 4,
 "nbformat_minor": 2
}
