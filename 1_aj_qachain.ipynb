{
 "cells": [
  {
   "cell_type": "code",
   "execution_count": 11,
   "metadata": {},
   "outputs": [],
   "source": [
    "#!pip install sentence_transformers\n",
    "import os\n",
    "import openai\n",
    "\n",
    "#openai.api_key  = os.environ['OPENAI_API_KEY']\n",
    "\n",
    "from dotenv import load_dotenv, find_dotenv\n",
    "_ = load_dotenv(find_dotenv())\n",
    "openai.api_key  = os.environ['OPENAI_API_KEY']"
   ]
  },
  {
   "cell_type": "code",
   "execution_count": 1,
   "metadata": {},
   "outputs": [
    {
     "name": "stderr",
     "output_type": "stream",
     "text": [
      "c:\\Users\\anton_glfk00f\\miniconda3\\envs\\llm_app_env\\lib\\site-packages\\tqdm\\auto.py:21: TqdmWarning: IProgress not found. Please update jupyter and ipywidgets. See https://ipywidgets.readthedocs.io/en/stable/user_install.html\n",
      "  from .autonotebook import tqdm as notebook_tqdm\n"
     ]
    },
    {
     "name": "stdout",
     "output_type": "stream",
     "text": [
      "Loaded as API: https://ysharma-explore-llamav2-with-tgi.hf.space/ ✔\n",
      " Hello\n"
     ]
    }
   ],
   "source": [
    "from gradio_client import Client\n",
    "\n",
    "client = Client(\"https://ysharma-explore-llamav2-with-tgi.hf.space/\")\n",
    "result = client.predict(\n",
    "\t\t\t\t\"Howdy!\",\t# str in 'Message' Textbox component\n",
    "\t\t\t\tapi_name=\"/chat\"\n",
    ")\n",
    "print(result)"
   ]
  },
  {
   "cell_type": "code",
   "execution_count": 8,
   "metadata": {},
   "outputs": [],
   "source": [
    "from pypdf import PdfReader\n",
    "from langchain.text_splitter import RecursiveCharacterTextSplitter\n",
    "from langchain.vectorstores import FAISS\n",
    "from langchain.embeddings import HuggingFaceEmbeddings\n",
    "\n",
    "reader = PdfReader(\"PROGRAMA ANALITICO MÓDULO.pdf\")\n",
    "#reader = PdfReader(\"PatekPhilippe_P2400_Manual_Winding.pdf\")\n",
    "#reader = PdfReader(\"Philip Kotler, Gary Armstrong - Marketing_ Versión latinoamerica (2007).pdf\")\n",
    "#reader = PdfReader(\"Philip Kotler, Gary Armstrong, Sridhar Balasubramanian - Principles of Marketing-Pearson (2023).pdf\")\n",
    "\n",
    "text = \"\"\n",
    "i = 0\n",
    "\n",
    "for page in reader.pages:\n",
    "    i += 1\n",
    "    text += f\"Página no. {i}: \" + page.extract_text()\n",
    "\n",
    "text_splitter = RecursiveCharacterTextSplitter(\n",
    "    chunk_size=1000,\n",
    "    chunk_overlap=200,\n",
    "    length_function=len,\n",
    "    add_start_index = True,\n",
    "    )\n",
    "chunks = text_splitter.split_text(text=text)"
   ]
  },
  {
   "cell_type": "code",
   "execution_count": 1,
   "metadata": {},
   "outputs": [
    {
     "name": "stderr",
     "output_type": "stream",
     "text": [
      "c:\\Users\\anton_glfk00f\\miniconda3\\envs\\llm_app_env\\lib\\site-packages\\tqdm\\auto.py:21: TqdmWarning: IProgress not found. Please update jupyter and ipywidgets. See https://ipywidgets.readthedocs.io/en/stable/user_install.html\n",
      "  from .autonotebook import tqdm as notebook_tqdm\n"
     ]
    },
    {
     "name": "stdout",
     "output_type": "stream",
     "text": [
      "['Página no. 1 UAGRM  Business School    Calle Gral. Saavedra Nº 137     Teléfono  3 -366814      www.uagrmbs.edu.bo   \\n  E-mail: solicitudes@uagrmbs.edu.bo   \\n  \\n   ESPECIFICACION  \\n \\nREQUISITOS ACADEMICOS PARA LA REALIZACION DE  \\nUN  MODULO  \\nCódigo: ES -ENA -551  Rev.   6, Fecha:  23-03-12  \\nPág.  1 de 4  \\n  \\n   \\n \\n  \\nUAGRM BUSINESS SCHOOL      \\n  \\n  \\n \\n  \\n   \\n  \\n  \\nMAESTRÍA:  \\nMAESTRÍA EN ADMINISTRACIÓN DE EMPRESAS  \\n(Versión 9º – Edición 10º)  \\nGESTIÓN DE MARKETING   \\n(ESTRATÉGICO Y OPERATIVO)  \\n  \\n  \\n \\n  \\nEnero de 2022  \\nSanta Cruz – Bolivia  \\n \\n \\nANEXO  \\n  \\n1 \\n: \\n  \\nFORMATO DE  \\nPRESENTACION DEL PROGRAMA ANAL  \\nI \\nTICO  \\n:']\n",
      "['Página no. 2 UAGRM  Business School    Calle Gral. Saavedra Nº 137     Teléfono  3 -366814      www.uagrmbs.edu.bo   \\n  E-mail: solicitudes@uagrmbs.edu.bo   \\n  \\n   ESPECIFICACION  \\n \\nREQUISITOS ACADEMICOS PARA LA REALIZACION DE  \\nUN  MODULO  \\nCódigo: ES -ENA -551  Rev.   6, Fecha:  23-03-12  \\nPág.  2 de 4  \\n  \\n   \\n  \\nI. ASPECTOS GENERALES  \\nFecha de Inicio  : 25-07-23  \\nFecha de Finalización  : 18-08-23  \\nDías y Horas  : Martes y Viernes de 19:00 a 22:00 hrs.  \\nDuración del Módulo  : 48 Horas Académicas  \\nDocente    : M.Sc. Paola Cominetti Zárate  \\n \\nResumen de Currículum:  \\nFormación:   \\nIngeniero Comercial de la Universidad Diego Portales, Santiago -Chile, Magister en Marketing de la UAGRM \\nBusiness School, Santa Cruz -Bolivia.   \\nExperiencia:   \\nExperiencia en el área comercial y ventas de empresas de servicio como Principal Créditos Hipotecarios, \\nAndueza Corredores de Seguros, Santiago -Chile. Gerencia de Ventas  de Joyerías Anahí, Santa', 'Página no. 2 Experiencia en el área comercial y ventas de empresas de servicio como Principal Créditos Hipotecarios, \\nAndueza Corredores de Seguros, Santiago -Chile. Gerencia de Ventas  de Joyerías Anahí, Santa \\nCruzBolivia. Consultoría en temas empresariales y de marketing. Docencia en pre y postgrado  en UTEPSA, \\nUAGRM Business School y UCB.  \\n  \\nII. PRESENTACION DEL MODULO  \\nEl módulo Gestión de Marketing entrega la metodología y las herramientas para entender el mercado en el \\ncual está compiten las  empresas, comprendiendo la importancia del entorno y de las habilidades de la gestión \\nde marketing para aprovechas las oportunid ades y defenderse de las amenazas.   \\nEl postgraduante podrá incrementar su habilidad de análisis, diagnóstico, de toma de decisiones estratégicas \\naplicando las teorías empresariales en casos de estudio simulados a la realidad Boliviana, aspectos claves \\nen la formación de un especialista en Marketing.  \\n  \\nIII. OBJETIVO DE APRENDIZAJE DEL \\nMODULO  \\nObjetivo General', 'Página no. 2 en la formación de un especialista en Marketing.  \\n  \\nIII. OBJETIVO DE APRENDIZAJE DEL \\nMODULO  \\nObjetivo General  \\nAl terminar el módulo, los Postgraduantes, estarán en condiciones de:   \\nComprender y aplicar conceptos, técnicas y herramientas del Marketing Estratégico  para mejorar las \\ncompetencias Administrativas y Gerenciales. Brindar a los postgraduantes un conjunto de técnicas y \\nherramientas del Marketing Operativo para comprender y aplicar el análisis y administración de mercados  \\n  \\nIV. UNIDADES DEL MODULO:  \\nEl conteni do del módulo comprende el desarrollo de nueve  capítulos organizados del siguiente modo:']\n",
      "['Página no. 3 UAGRM  Business School    Calle Gral. Saavedra Nº 137     Teléfono  3 -366814      www.uagrmbs.edu.bo   \\n  E-mail: solicitudes@uagrmbs.edu.bo   \\n  \\n   ESPECIFICACION  \\n \\nREQUISITOS ACADEMICOS PARA LA REALIZACION DE  \\nUN  MODULO  \\nCódigo: ES -ENA -551  Rev.   6, Fecha:  23-03-12  \\nPág.  3 de 4  \\n  \\n   \\n \\n•  CAPITULO 1. Conceptos Generales y Proceso del Marketing  \\nAl terminar el  presente capitulo, los Postgraduantes, estarán en condiciones de:   \\nEntender los conceptos básicos asociados a la gestión del Marketing como medio de generar valor a una \\norganización  \\nContenido Analítico   \\n\\uf0a2 Desarrollo de la gestión empresarial  \\n\\uf0a2 Historia y concepto de la Estrategia  \\n\\uf0a2 Etapas de la planificación y tipos de plan es  \\n\\uf0a2 Proceso del marketing  \\n\\uf0a2 Marketing estratégico vs marketing operativo  \\n  \\nActividades del capítulo  \\nLecturas Básicas:  o   \\n• Libro MARKETING (KOTLER Y ARMSTRONG) CAP. 1.   \\n• Libro MARKETING (KOTLER Y ARMSTRONG) CAP. 2.   \\n \\nLecturas complementarias:', 'Página no. 3 Actividades del capítulo  \\nLecturas Básicas:  o   \\n• Libro MARKETING (KOTLER Y ARMSTRONG) CAP. 1.   \\n• Libro MARKETING (KOTLER Y ARMSTRONG) CAP. 2.   \\n \\nLecturas complementarias:  \\no Artículo MIOPÍA DEL MARKETING (T. LEVITT)  \\no Lectura 5 FUERZAS DE PORTER  \\n  \\nCaso Práctico / Ejercicio Práctico:  \\no Caso 1: KODAK  \\n  \\n•  CAPITULO 2. Análisis del Entorno de Marketing  \\nAl terminar el  presente capitulo, los Postgraduant es, estarán en condiciones de:   \\nComprender la importancia y el uso de herramientas de gestión, del análisis del Macroentorno y Microentorno \\npara la toma de decisiones de Marketing  \\nContenido Analítico   \\n\\uf0a2 Análisis del Macroentorno   \\n\\uf0a2 Análisis del Microentorn o   \\n \\nActividades del capítulo  \\nLecturas Básicas:   \\no Libro MARKETING (KOTLER Y ARMSTRONG) CAP. 3.  \\no Libro MARKETING (KOTLER Y ARMSTRONG) CAP. 4.']\n",
      "['Página no. 4 UAGRM  Business School    Calle Gral. Saavedra Nº 137     Teléfono  3 -366814      www.uagrmbs.edu.bo   \\n  E-mail: solicitudes@uagrmbs.edu.bo   \\n  \\n   ESPECIFICACION  \\n \\nREQUISITOS ACADEMICOS PARA LA REALIZACION DE  \\nUN  MODULO  \\nCódigo: ES -ENA -551  Rev.   6, Fecha:  23-03-12  \\nPág.  4 de 4  \\n  \\n   \\n \\nLecturas complementarias:  \\no Artículo CONSUMIDOR Y COVID 19 (P. KOTLER)  \\n  \\nCaso Práctico / Ejercicio Práctico:  \\no FORO 1 plataforma Moodle  \\no Caso 2: IC NORTE  \\n  \\n•  CAPITULO 3. Análisis de la empresa  \\nAl terminar el  presente capitulo, los Postgraduantes, estarán en condiciones de:   \\nDesarrollar las herramientas de análisis pertinentes para identificar las fortalezas y debilidades de la empresa   \\nContenido Analítico   \\n\\uf0a2 Análisis Identidad de la empresa  \\n\\uf0a2 Perfil estratégico de la empresa  \\n\\uf0a2 Análisis Cadena de Valor  \\n\\uf0a2 Análisis del crecimiento (ANSOFF)  \\n\\uf0a2 Análisis de la cartera de productos (BCG)  \\n\\uf0a2 Benchmarking  \\n  \\nActividades del capítulo  \\nLecturas Básicas:', 'Página no. 4 \\uf0a2 Análisis Cadena de Valor  \\n\\uf0a2 Análisis del crecimiento (ANSOFF)  \\n\\uf0a2 Análisis de la cartera de productos (BCG)  \\n\\uf0a2 Benchmarking  \\n  \\nActividades del capítulo  \\nLecturas Básicas:  \\no  Libro MARKETING (KOTLER Y ARMSTRONG) CAP. 18.   \\n \\nLecturas complementarias:  \\no Lectura METODOLOGÍA MATRIZ BCG  \\n  \\nCaso Práctico / Ejercicio Práctico:  \\no Practico 1: construcción matriz BCG  \\n  \\n \\n•  CAPITULO 4. Comportamiento del consumidor   \\nAl terminar el  presente capitulo, los Postgraduantes, estarán en condi ciones de:   \\nIdentificar los aspectos claves del comportamiento del consumidor antes, durante y después de la compra, \\ncomo asimismo el proceso de toma de decisiones.  \\nContenido Analítico']\n",
      "['Página no. 5 UAGRM  Business School    Calle Gral. Saavedra Nº 137     Teléfono  3 -366814      www.uagrmbs.edu.bo   \\n  E-mail: solicitudes@uagrmbs.edu.bo   \\n  \\n   ESPECIFICACION  \\n \\nREQUISITOS ACADEMICOS PARA LA REALIZACION DE  \\nUN  MODULO  \\nCódigo: ES -ENA -551  Rev.   6, Fecha:  23-03-12  \\nPág.  5 de 4  \\n  \\n   \\n\\uf0a2 Factores internos o psicológicos  \\n\\uf0a2 Factores externos o sociales  \\n\\uf0a2 Proceso de toma de decisiones  \\n\\uf0a2 Participantes o roles del proceso  \\n  \\nActividades del capítulo  \\nLecturas Básicas:  \\no Libro MARKETING (KOTLER Y ARMSTRONG) CAP. 5.   \\no Libro MARKETING (KOTLER Y ARMSTRONG) CAP. 6.   \\n  \\nLecturas complemen tarias:  \\no Artículo METODOLOGÍA MATRIZ BCG  \\no Artículo CADENA DE VALOR (INSTITUTO EMPRESA)   \\n  \\nCaso Práctico / Ejercicio Práctico:  \\no Caso 3: Empresa Sofía   \\n  \\n  \\n•  CAPITULO 5. Segmentación de Mercados   \\nAl terminar el  presente capitulo, los Postgraduantes, estarán en condiciones de:', 'Página no. 5 Caso Práctico / Ejercicio Práctico:  \\no Caso 3: Empresa Sofía   \\n  \\n  \\n•  CAPITULO 5. Segmentación de Mercados   \\nAl terminar el  presente capitulo, los Postgraduantes, estarán en condiciones de:   \\nDesarrollar la metodología para segmentar el mercado e identificar el público objetivo al cual se deben dirigir \\nlos recursos comerciales de una empresa   \\nContenido Analític o   \\n\\uf0a2 Macrosegmentación   \\n\\uf0a2 Microsegmentación  \\n\\uf0a2 Variables de segmentación de consumo  \\n\\uf0a2 Variables de segmentación de negocio  \\n\\uf0a2 Niveles de segmentación  \\n\\uf0a2 Mercado Meta  \\n\\uf0a2 Estrategia de Mercado Meta  \\n  \\nActividades del capítulo  \\nLecturas Básicas:  \\no  Libro MARKETING (KOTLER Y ARMSTRONG) CAP. 7.   \\n  \\nCaso Práctico / Ejercicio Práctico:  \\no FORO 2 plataforma Moodle']\n",
      "['Página no. 6 UAGRM  Business School    Calle Gral. Saavedra Nº 137     Teléfono  3 -366814      www.uagrmbs.edu.bo   \\n  E-mail: solicitudes@uagrmbs.edu.bo   \\n  \\n   ESPECIFICACION  \\n \\nREQUISITOS ACADEMICOS PARA LA REALIZACION DE  \\nUN  MODULO  \\nCódigo: ES -ENA -551  Rev.   6, Fecha:  23-03-12  \\nPág.  6 de 4  \\n  \\n   \\n  \\n  \\n•  CAPITULO 6. Posicionamiento y Branding  \\nAl terminar el  presente capitulo, los Postgraduantes, estarán en condiciones de:   \\nEstablecer el proces o de construcción de posicionamiento de una marca determinada  \\nContenido Analítico   \\n\\uf0a2 Concepto de diferenciación  \\n\\uf0a2 Estrategias de Posicionamiento  \\n\\uf0a2 Proceso del posicionamiento  \\n\\uf0a2 Mapa de posicionamiento  \\n\\uf0a2 Decisiones estratégicas   \\n  \\nActividades del capítulo  \\nLecturas Básicas:  \\no Libro MARKETING (KOTLER Y ARMSTRONG) CAP. 19.   \\no Libro MARKETING (KOTLER Y ARMSTRONG) CAP. 20.   \\n  \\nLecturas complementarias:  \\no Lectura MAPA DE POSICIONAMIENTO  \\no Lectura POSICIONAMIENTO  \\n  \\nCaso Práctico / Ejercicio Práctico:', 'Página no. 6 o Libro MARKETING (KOTLER Y ARMSTRONG) CAP. 20.   \\n  \\nLecturas complementarias:  \\no Lectura MAPA DE POSICIONAMIENTO  \\no Lectura POSICIONAMIENTO  \\n  \\nCaso Práctico / Ejercicio Práctico:  \\no Practico 2: Análisis mapa posicionamiento  \\n  \\n  \\n•  CAPITULO 7. Estrategias de Marketing  \\nAl terminar el  presente capitulo, los Postgraduantes, estarán en condiciones de:   \\nTomar decisiones estratégicas de Marketing que permitan alcanza los objetivos comerciales de una empresa  \\n \\nContenido Analítico   \\n\\uf0a2 Objetivos de Marketing  \\n\\uf0a2 Estrategias Competitivas  \\n\\uf0a2 Estrategias de Marketing  \\n  \\nActividades del capítulo  \\nLecturas Básicas:']\n",
      "['Página no. 7 UAGRM  Business School    Calle Gral. Saavedra Nº 137     Teléfono  3 -366814      www.uagrmbs.edu.bo   \\n  E-mail: solicitudes@uagrmbs.edu.bo   \\n  \\n   ESPECIFICACION  \\n \\nREQUISITOS ACADEMICOS PARA LA REALIZACION DE  \\nUN  MODULO  \\nCódigo: ES -ENA -551  Rev.   6, Fecha:  23-03-12  \\nPág.  7 de 4  \\n  \\n   \\no Libro ESTRATEGIAS DE MARKETING (FERRELL Y HARTLINE) CAP. 2   \\no Libro ESTRATEGIAS DE MARKETING (FERRELL Y HARTLINE) CAP.  \\n12  \\n  \\nLecturas complementarias:  \\no Lectura Estrategia Océano Azul  \\n  \\nCaso Práctico / Ejercicio Práctico:  \\n  \\n•  CAPITULO 8. Marketing Operativo  \\nAl terminar el  presente capitulo, los Postgraduantes, estarán en condiciones de:   \\nTomar decisiones del Marketing Operativo que permitan desarrollar las estrategias de marketing establecidas \\npara alcanzar los objetivos comerciales de una empresa  \\nContenido Analítico   \\n\\uf0a2 Variables del Mk  \\n\\uf0a2 Cronograma y presupuesto  \\n\\uf0a2 Control  \\n  \\nActividades del capítulo  \\nLecturas Básicas:', 'Página no. 7 para alcanzar los objetivos comerciales de una empresa  \\nContenido Analítico   \\n\\uf0a2 Variables del Mk  \\n\\uf0a2 Cronograma y presupuesto  \\n\\uf0a2 Control  \\n  \\nActividades del capítulo  \\nLecturas Básicas:  \\no Libro ESTRATEGIAS DE MARKETING (FERRELL Y HARTLINE) CAP. 19   \\no Libro ESTRATEGIAS DE MARKETING (FERRELL Y HARTLINE) CAP. 20   \\n  \\n  \\n•  CAPITULO 9.  Plan de Marketing y Métricas   \\nAl terminar el  presente capitulo, los Postgraduantes, estarán en condiciones de:   \\nEntender las etapas de un Plan de Marketing como herramienta clave de la gestión comercial de una empresa  \\nContenido Analítico   \\n\\uf0a2 Etapas de un plan de marketing  \\n\\uf0a2 Métricas de Marketing  \\n  \\n  \\nActividades del capítulo  \\nLecturas Básicas:  \\no Libro PLAN DE MARKETING EN EL PRACTICA (SAINZ DE VICUÑA)   \\n \\nCaso Práctico / Ejercicio Práctico:']\n",
      "['Página no. 8 UAGRM  Business School    Calle Gral. Saavedra Nº 137     Teléfono  3 -366814      www.uagrmbs.edu.bo   \\n  E-mail: solicitudes@uagrmbs.edu.bo   \\n  \\n   ESPECIFICACION  \\n \\nREQUISITOS ACADEMICOS PARA LA REALIZACION DE  \\nUN  MODULO  \\nCódigo: ES -ENA -551  Rev.   6, Fecha:  23-03-12  \\nPág.  8 de 4  \\n  \\n   \\no EXAMEN FINAL ( Trabajo Integrador)   \\n   \\nV. METODOLOGIA:  \\nEl módulo se desarrolla con una orientación teórica como práctica.   \\no Contenido Teórico . Se basa en las explicaciones del docente y en el estudio de algunos contenidos del \\ntexto guía y la bibliografía básica. Estos deberán ser ampliados por los participantes con la revisión de la \\nbibliografía complementaria y otras lecturas orientadas según cada tema.   \\no Contenido Práctico. Se basa en la aplicación del contenido teórico en los trabajos desarrollados por los \\npostgraduantes así como  el estudio artículos y casos acerca del contenido del módulo.', 'Página no. 8 o Contenido Práctico. Se basa en la aplicación del contenido teórico en los trabajos desarrollados por los \\npostgraduantes así como  el estudio artículos y casos acerca del contenido del módulo.   \\nEn este marco, no se pretende que el docente \"enseñe\" los temas; sino, más bien que, en ciertos aspectos \\nclave, los profundice y trascienda respondiendo dudas, conduciendo discusiones e introd uciendo nuevos \\nenfoques y experiencias; por lo que, las clases son altamente participativas, durante los cuales se promueve \\nel debate con base a los conocimientos y experiencias de los participantes.  \\n  \\nVI. MEDIOS - RECURSOS  \\nPara un mejor aprovechamiento, los  participantes contarán con anticipación con el Material Académico de \\nApoyo correspondiente al módulo; el cual, según orientación del docente, deberá ser estudiado con \\nanticipación a cada clase, ya que su contenido es fundamental para el cumplimiento de lo s objetivos del \\nmódulo.', 'Página no. 8 anticipación a cada clase, ya que su contenido es fundamental para el cumplimiento de lo s objetivos del \\nmódulo.   \\nAdemás, se considera como medios de apoyo fundamentales para el desarrollo del módulo a:  \\n– Plataforma MOODLE donde encontrará todo el material para el correcto desarrollo del módulo – \\nEncuentros virtuales mediante la plataforma C ISCO WEBEX MEETING   \\n  \\nVII. EVALUACION  \\nEl sistema de evaluación considera una puntuación máxima de cien (100) puntos de los cuales para la \\nAPROBACIÓN del módulo, el Postgraduante deberá acumular un mínimo de sesenta y cuatro (64) puntos:  \\nA este fin, la acumula ción del puntaje correspondiente se realizará según el detalle siguiente:  \\no Participación (10%).  Registro del docente según la participación activa del Postgraduante durante el \\ndesarrollo del módulo.  \\no Trabajos Prácticos  (40%).  Elaboración y presentación de trabajos prácticos individuales y grupales \\nestablecidos durante el desarrollo del módulo.', 'Página no. 8 desarrollo del módulo.  \\no Trabajos Prácticos  (40%).  Elaboración y presentación de trabajos prácticos individuales y grupales \\nestablecidos durante el desarrollo del módulo.  \\no Examen Final  (50%).  Evaluación teórica individual y Evaluación práctica grupal a través de un t rabajo \\nfinal integrador  aplicando el contenido del módulo.  \\nVIII. BIBLIOGRAFIA  \\nLa bibliografía utilizada y recomendada para cubrir los objetivos del módulo es la siguiente:  \\nBibliografía Básica:']\n",
      "['Página no. 9 UAGRM  Business School    Calle Gral. Saavedra Nº 137     Teléfono  3 -366814      www.uagrmbs.edu.bo   \\n  E-mail: solicitudes@uagrmbs.edu.bo   \\n  \\n   ESPECIFICACION  \\n \\nREQUISITOS ACADEMICOS PARA LA REALIZACION DE  \\nUN  MODULO  \\nCódigo: ES -ENA -551  Rev.   6, Fecha:  23-03-12  \\nPág.  9 de 4  \\n  \\n   \\no Kotler Philip, Armstrong Gary, “Marketing”  \\no Ferrell O.C. y Hartline Michael, “Estrategia s de Marketing” o \\n Sainz de Vicuña, José, “El Plan de Marketing en la práctica”  \\n  \\nLecturas Complementarias:  \\no Artículo MIOPÍA DEL MARKETING (T. LEVITT)  \\no Lectura 5 FUERZAS DE PORTER  \\no Artículo CONSUMIDOR Y COVID 19 (P. KOTLER)  \\no Artículo METODOLOGÍA MATRIZ BCG  \\no Artículo CADENA DE VALOR (INSTITUTO EMPRESA)  \\no Lectura METODOLOGÍA MATRIZ BCG  \\no Lectura MAPA DE POSICIONAMIENTO  \\no Lectura POSICIONAMIENTO  \\no Lectura Estrategia Océano Azul']\n"
     ]
    }
   ],
   "source": [
    "from pypdf import PdfReader\n",
    "from langchain.text_splitter import RecursiveCharacterTextSplitter\n",
    "from langchain.vectorstores import FAISS\n",
    "from langchain.embeddings import HuggingFaceEmbeddings\n",
    "\n",
    "reader = PdfReader(\"PROGRAMA ANALITICO MÓDULO.pdf\")\n",
    "#reader = PdfReader(\"PatekPhilippe_P2400_Manual_Winding.pdf\")\n",
    "#reader = PdfReader(\"Philip Kotler, Gary Armstrong - Marketing_ Versión latinoamerica (2007).pdf\")\n",
    "#reader = PdfReader(\"Philip Kotler, Gary Armstrong, Sridhar Balasubramanian - Principles of Marketing-Pearson (2023).pdf\")\n",
    "\n",
    "\n",
    "embeddings = HuggingFaceEmbeddings(model_name=\"sentence-transformers/distiluse-base-multilingual-cased-v1\")\n",
    "VectorStore = FAISS.from_texts([\"\"], embedding=embeddings)\n",
    "text_splitter = RecursiveCharacterTextSplitter(\n",
    "    chunk_size=1000,\n",
    "    chunk_overlap=200,\n",
    "    length_function=len,\n",
    "    add_start_index = False,\n",
    "    )\n",
    "i = 0\n",
    "for page in reader.pages:\n",
    "    i += 1\n",
    "    text = page.extract_text()\n",
    "    #print(text)\n",
    "    chunks = text_splitter.split_text(text=text)\n",
    "    chunks_pages = []\n",
    "    for chunk in chunks:\n",
    "        chunk_wpage = f\"Página no. {i} \" + chunk\n",
    "        chunks_pages.append(chunk_wpage)\n",
    "    print(chunks_pages)\n",
    "    VectorStore.add_texts(chunks_pages)"
   ]
  },
  {
   "cell_type": "code",
   "execution_count": 88,
   "metadata": {},
   "outputs": [],
   "source": [
    "embeddings = HuggingFaceEmbeddings(model_name=\"sentence-transformers/distiluse-base-multilingual-cased-v1\")\n",
    "VectorStore = FAISS.from_texts(chunks, embedding=embeddings)"
   ]
  },
  {
   "cell_type": "code",
   "execution_count": 24,
   "metadata": {},
   "outputs": [],
   "source": [
    "import pickle\n",
    "\n",
    "# Save the object to a file using pickle\n",
    "file_name = 'VectorStore_Marketing_en.pickle'\n",
    "with open(file_name, 'wb') as file:\n",
    "    pickle.dump(VectorStore, file)\n"
   ]
  },
  {
   "cell_type": "code",
   "execution_count": 25,
   "metadata": {},
   "outputs": [],
   "source": [
    "import pickle\n",
    "\n",
    "# Load the object from the file using pickle\n",
    "with open('VectorStore_Marketing.pickle', 'rb') as file:\n",
    "    loaded_VectorStore = pickle.load(file)"
   ]
  },
  {
   "cell_type": "code",
   "execution_count": 3,
   "metadata": {},
   "outputs": [
    {
     "name": "stdout",
     "output_type": "stream",
     "text": [
      "Found model file at  C:\\\\\\\\Users\\\\\\\\anton_glfk00f\\\\\\\\.cache\\\\\\\\gpt4all\\\\llama-2-7b-chat.ggmlv3.q4_0.bin\n",
      " Paris, which is known for its iconic landmarks such as the Eiffel Tower, Notre-Dame Cathedral, and the Louvre\n"
     ]
    }
   ],
   "source": [
    "from gpt4all import GPT4All\n",
    "model = GPT4All(\"llama-2-7b-chat.ggmlv3.q4_0.bin\")\n",
    "output = model.generate(\"The capital of France is \", max_tokens=30)\n",
    "print(output)"
   ]
  },
  {
   "cell_type": "code",
   "execution_count": 40,
   "metadata": {},
   "outputs": [],
   "source": [
    "from typing import Any, List, Mapping, Optional\n",
    "from langchain.callbacks.manager import CallbackManagerForLLMRun\n",
    "from langchain.llms.base import LLM\n",
    "from gradio_client import Client\n",
    "\n",
    "class LLM_gradioAPI(LLM):\n",
    "    n: int\n",
    "\n",
    "    @property\n",
    "    def _llm_type(self) -> str:\n",
    "        return \"custom\"\n",
    "\n",
    "    def _call(\n",
    "        self,\n",
    "        prompt: str,\n",
    "        stop: Optional[List[str]] = None,\n",
    "        run_manager: Optional[CallbackManagerForLLMRun] = None,\n",
    "    ) -> str:\n",
    "        # Remove the restriction on the stop parameter\n",
    "        if stop is not None:\n",
    "            raise ValueError(\"stop kwargs are not permitted.\")\n",
    "\n",
    "\n",
    "        # Make the API call using the Gradio Client\n",
    "        client = Client(\"https://ysharma-explore-llamav2-with-tgi.hf.space/\")\n",
    "        result = client.predict(prompt, api_name=\"/chat_1\")\n",
    "\n",
    "        # Return the response from the API\n",
    "        return result\n",
    "\n",
    "    @property\n",
    "    def _identifying_params(self) -> Mapping[str, Any]:\n",
    "        \"\"\"Get the identifying parameters.\"\"\"\n",
    "        return {\"n\": self.n}"
   ]
  },
  {
   "cell_type": "code",
   "execution_count": 18,
   "metadata": {},
   "outputs": [
    {
     "name": "stdout",
     "output_type": "stream",
     "text": [
      "\n",
      "\n",
      "\u001b[1m> Entering new StuffDocumentsChain chain...\u001b[0m\n",
      "\n",
      "\n",
      "\u001b[1m> Entering new LLMChain chain...\u001b[0m\n",
      "Prompt after formatting:\n",
      "\u001b[32;1m\u001b[1;3mUse the following pieces of context to answer the question at the end. If you don't know the answer, just say that you don't know, don't try to make up an answer.\n",
      "\n",
      "Página no. 2 Experiencia en el área comercial y ventas de empresas de servicio como Principal Créditos Hipotecarios, \n",
      "Andueza Corredores de Seguros, Santiago -Chile. Gerencia de Ventas  de Joyerías Anahí, Santa \n",
      "CruzBolivia. Consultoría en temas empresariales y de marketing. Docencia en pre y postgrado  en UTEPSA, \n",
      "UAGRM Business School y UCB.  \n",
      "  \n",
      "II. PRESENTACION DEL MODULO  \n",
      "El módulo Gestión de Marketing entrega la metodología y las herramientas para entender el mercado en el \n",
      "cual está compiten las  empresas, comprendiendo la importancia del entorno y de las habilidades de la gestión \n",
      "de marketing para aprovechas las oportunid ades y defenderse de las amenazas.   \n",
      "El postgraduante podrá incrementar su habilidad de análisis, diagnóstico, de toma de decisiones estratégicas \n",
      "aplicando las teorías empresariales en casos de estudio simulados a la realidad Boliviana, aspectos claves \n",
      "en la formación de un especialista en Marketing.  \n",
      "  \n",
      "III. OBJETIVO DE APRENDIZAJE DEL \n",
      "MODULO  \n",
      "Objetivo General\n",
      "\n",
      "Página no. 8 o Contenido Práctico. Se basa en la aplicación del contenido teórico en los trabajos desarrollados por los \n",
      "postgraduantes así como  el estudio artículos y casos acerca del contenido del módulo.   \n",
      "En este marco, no se pretende que el docente \"enseñe\" los temas; sino, más bien que, en ciertos aspectos \n",
      "clave, los profundice y trascienda respondiendo dudas, conduciendo discusiones e introd uciendo nuevos \n",
      "enfoques y experiencias; por lo que, las clases son altamente participativas, durante los cuales se promueve \n",
      "el debate con base a los conocimientos y experiencias de los participantes.  \n",
      "  \n",
      "VI. MEDIOS - RECURSOS  \n",
      "Para un mejor aprovechamiento, los  participantes contarán con anticipación con el Material Académico de \n",
      "Apoyo correspondiente al módulo; el cual, según orientación del docente, deberá ser estudiado con \n",
      "anticipación a cada clase, ya que su contenido es fundamental para el cumplimiento de lo s objetivos del \n",
      "módulo.\n",
      "\n",
      "Página no. 3 Actividades del capítulo  \n",
      "Lecturas Básicas:  o   \n",
      "• Libro MARKETING (KOTLER Y ARMSTRONG) CAP. 1.   \n",
      "• Libro MARKETING (KOTLER Y ARMSTRONG) CAP. 2.   \n",
      " \n",
      "Lecturas complementarias:  \n",
      "o Artículo MIOPÍA DEL MARKETING (T. LEVITT)  \n",
      "o Lectura 5 FUERZAS DE PORTER  \n",
      "  \n",
      "Caso Práctico / Ejercicio Práctico:  \n",
      "o Caso 1: KODAK  \n",
      "  \n",
      "•  CAPITULO 2. Análisis del Entorno de Marketing  \n",
      "Al terminar el  presente capitulo, los Postgraduant es, estarán en condiciones de:   \n",
      "Comprender la importancia y el uso de herramientas de gestión, del análisis del Macroentorno y Microentorno \n",
      "para la toma de decisiones de Marketing  \n",
      "Contenido Analítico   \n",
      " Análisis del Macroentorno   \n",
      " Análisis del Microentorn o   \n",
      " \n",
      "Actividades del capítulo  \n",
      "Lecturas Básicas:   \n",
      "o Libro MARKETING (KOTLER Y ARMSTRONG) CAP. 3.  \n",
      "o Libro MARKETING (KOTLER Y ARMSTRONG) CAP. 4.\n",
      "\n",
      "Question: Responde en español: ¿Cuál es la experiencia  de la docente?\n",
      "Helpful Answer:\u001b[0m\n",
      "Loaded as API: https://ysharma-explore-llamav2-with-tgi.hf.space/ ✔\n",
      "\n",
      "\u001b[1m> Finished chain.\u001b[0m\n",
      "\n",
      "\u001b[1m> Finished chain.\u001b[0m\n",
      "Tokens Used: 0\n",
      "\tPrompt Tokens: 0\n",
      "\tCompletion Tokens: 0\n",
      "Successful Requests: 0\n",
      "Total Cost (USD): $0.0\n"
     ]
    }
   ],
   "source": [
    "from langchain.llms import OpenAI\n",
    "from langchain.chains.question_answering import load_qa_chain\n",
    "from langchain.callbacks import get_openai_callback\n",
    "from langchain.llms import GPT4All\n",
    "from src import LLM_gradioAPI\n",
    "\n",
    "query = \"Responde en español: ¿Cuál es la experiencia  de la docente?\"\n",
    "docs = VectorStore.similarity_search(query=query, k=3)\n",
    "#docs = VectorStore.max_marginal_relevance_search(query=query, k=5)\n",
    "\n",
    "#llm = OpenAI()\n",
    "#llm = GPT4All(model=\"./llama-2-7b-chat.ggmlv3.q4_0.bin\",max_tokens=2048)\n",
    "llm = LLM_gradioAPI(n=100) # hugging face repo\n",
    "chain = load_qa_chain(llm=llm, chain_type=\"stuff\", verbose=True)\n",
    "\n",
    "reference = \"------Also, Write in new lines the initial 10 words of each context for reference.\"\n",
    "with get_openai_callback() as cb:\n",
    "    response = chain.run(input_documents=docs, question=query)\n",
    "    print(cb)"
   ]
  },
  {
   "cell_type": "code",
   "execution_count": 19,
   "metadata": {},
   "outputs": [
    {
     "data": {
      "text/plain": [
       "'La docente tiene experiencia en el área comercial y ventas de empresas de servicio, como Principal Créditos Hipotecarios y Andueza Corredores de Seguros, en Santiago, Chile. También ha trabajado en la gerencia de ventas de Joyerías Anahí en Santa Cruz, Bolivia. Además, ha sido consultora en temas empresariales y de marketing, y ha impartido clases en pre y postgrados en UTEPSA, UAGRM Business School y UCB.'"
      ]
     },
     "execution_count": 19,
     "metadata": {},
     "output_type": "execute_result"
    }
   ],
   "source": [
    "response"
   ]
  },
  {
   "cell_type": "code",
   "execution_count": 106,
   "metadata": {},
   "outputs": [
    {
     "data": {
      "text/plain": [
       "' The teacher has experience in marketing management and sales of financial institutions, credit agencies, Santiago - Chile. Marketing consulting services, business school and UCB.'"
      ]
     },
     "execution_count": 106,
     "metadata": {},
     "output_type": "execute_result"
    }
   ],
   "source": [
    "response"
   ]
  },
  {
   "cell_type": "code",
   "execution_count": 33,
   "metadata": {},
   "outputs": [
    {
     "data": {
      "text/plain": [
       "' Las estrategias del marketing incluyen estrategias específicas para mercados meta, posicionamiento, la mezcla de marketing y los niveles de los gastos de marketing.'"
      ]
     },
     "execution_count": 33,
     "metadata": {},
     "output_type": "execute_result"
    }
   ],
   "source": [
    "response"
   ]
  },
  {
   "cell_type": "code",
   "execution_count": 26,
   "metadata": {},
   "outputs": [
    {
     "data": {
      "text/plain": [
       "' El marketing es el proceso de satisfacer las necesidades de los consumidores mediante la identificación, anticipación y satisfacción de sus deseos. Esto implica determinar qué productos y servicios los consumidores desean, establecer un precio adecuado para ellos, promocionarlos adecuadamente y distribuirlos en el lugar correcto. El marketing involucra también el estudio de la competencia y el análisis de la industria.'"
      ]
     },
     "execution_count": 26,
     "metadata": {},
     "output_type": "execute_result"
    }
   ],
   "source": [
    "response"
   ]
  },
  {
   "cell_type": "code",
   "execution_count": 21,
   "metadata": {},
   "outputs": [
    {
     "data": {
      "text/plain": [
       "' El marketing es el proceso de diseñar relaciones redituables con el cliente mediante la creación de valor para los clientes y la captación de valor de éstos a cambio. Se enfoca en la creación de valor para los clientes a través de la identificación y satisfacción de sus necesidades. Esto se lleva a cabo mediante la promoción, ventas y distribución de productos y servicios.'"
      ]
     },
     "execution_count": 21,
     "metadata": {},
     "output_type": "execute_result"
    }
   ],
   "source": [
    "response"
   ]
  },
  {
   "cell_type": "markdown",
   "metadata": {},
   "source": [
    "### Chain"
   ]
  },
  {
   "cell_type": "code",
   "execution_count": 47,
   "metadata": {},
   "outputs": [
    {
     "name": "stdout",
     "output_type": "stream",
     "text": [
      "['Página no. 1 UAGRM  Business School    Calle Gral. Saavedra Nº 137     Teléfono  3 -366814      www.uagrmbs.edu.bo   \\n  E-mail: solicitudes@uagrmbs.edu.bo   \\n  \\n   ESPECIFICACION  \\n \\nREQUISITOS ACADEMICOS PARA LA REALIZACION DE  \\nUN  MODULO  \\nCódigo: ES -ENA -551  Rev.   6, Fecha:  23-03-12  \\nPág.  1 de 4  \\n  \\n   \\n \\n  \\nUAGRM BUSINESS SCHOOL      \\n  \\n  \\n \\n  \\n   \\n  \\n  \\nMAESTRÍA:  \\nMAESTRÍA EN ADMINISTRACIÓN DE EMPRESAS  \\n(Versión 9º – Edición 10º)  \\nGESTIÓN DE MARKETING   \\n(ESTRATÉGICO Y OPERATIVO)  \\n  \\n  \\n \\n  \\nEnero de 2022  \\nSanta Cruz – Bolivia  \\n \\n \\nANEXO  \\n  \\n1 \\n: \\n  \\nFORMATO DE  \\nPRESENTACION DEL PROGRAMA ANAL  \\nI \\nTICO  \\n:']\n",
      "['Página no. 2 UAGRM  Business School    Calle Gral. Saavedra Nº 137     Teléfono  3 -366814      www.uagrmbs.edu.bo   \\n  E-mail: solicitudes@uagrmbs.edu.bo   \\n  \\n   ESPECIFICACION  \\n \\nREQUISITOS ACADEMICOS PARA LA REALIZACION DE  \\nUN  MODULO  \\nCódigo: ES -ENA -551  Rev.   6, Fecha:  23-03-12  \\nPág.  2 de 4  \\n  \\n   \\n  \\nI. ASPECTOS GENERALES  \\nFecha de Inicio  : 25-07-23  \\nFecha de Finalización  : 18-08-23  \\nDías y Horas  : Martes y Viernes de 19:00 a 22:00 hrs.  \\nDuración del Módulo  : 48 Horas Académicas  \\nDocente    : M.Sc. Paola Cominetti Zárate  \\n \\nResumen de Currículum:  \\nFormación:   \\nIngeniero Comercial de la Universidad Diego Portales, Santiago -Chile, Magister en Marketing de la UAGRM \\nBusiness School, Santa Cruz -Bolivia.   \\nExperiencia:   \\nExperiencia en el área comercial y ventas de empresas de servicio como Principal Créditos Hipotecarios, \\nAndueza Corredores de Seguros, Santiago -Chile. Gerencia de Ventas  de Joyerías Anahí, Santa', 'Página no. 2 Experiencia en el área comercial y ventas de empresas de servicio como Principal Créditos Hipotecarios, \\nAndueza Corredores de Seguros, Santiago -Chile. Gerencia de Ventas  de Joyerías Anahí, Santa \\nCruzBolivia. Consultoría en temas empresariales y de marketing. Docencia en pre y postgrado  en UTEPSA, \\nUAGRM Business School y UCB.  \\n  \\nII. PRESENTACION DEL MODULO  \\nEl módulo Gestión de Marketing entrega la metodología y las herramientas para entender el mercado en el \\ncual está compiten las  empresas, comprendiendo la importancia del entorno y de las habilidades de la gestión \\nde marketing para aprovechas las oportunid ades y defenderse de las amenazas.   \\nEl postgraduante podrá incrementar su habilidad de análisis, diagnóstico, de toma de decisiones estratégicas \\naplicando las teorías empresariales en casos de estudio simulados a la realidad Boliviana, aspectos claves \\nen la formación de un especialista en Marketing.  \\n  \\nIII. OBJETIVO DE APRENDIZAJE DEL \\nMODULO  \\nObjetivo General', 'Página no. 2 en la formación de un especialista en Marketing.  \\n  \\nIII. OBJETIVO DE APRENDIZAJE DEL \\nMODULO  \\nObjetivo General  \\nAl terminar el módulo, los Postgraduantes, estarán en condiciones de:   \\nComprender y aplicar conceptos, técnicas y herramientas del Marketing Estratégico  para mejorar las \\ncompetencias Administrativas y Gerenciales. Brindar a los postgraduantes un conjunto de técnicas y \\nherramientas del Marketing Operativo para comprender y aplicar el análisis y administración de mercados  \\n  \\nIV. UNIDADES DEL MODULO:  \\nEl conteni do del módulo comprende el desarrollo de nueve  capítulos organizados del siguiente modo:']\n",
      "['Página no. 3 UAGRM  Business School    Calle Gral. Saavedra Nº 137     Teléfono  3 -366814      www.uagrmbs.edu.bo   \\n  E-mail: solicitudes@uagrmbs.edu.bo   \\n  \\n   ESPECIFICACION  \\n \\nREQUISITOS ACADEMICOS PARA LA REALIZACION DE  \\nUN  MODULO  \\nCódigo: ES -ENA -551  Rev.   6, Fecha:  23-03-12  \\nPág.  3 de 4  \\n  \\n   \\n \\n•  CAPITULO 1. Conceptos Generales y Proceso del Marketing  \\nAl terminar el  presente capitulo, los Postgraduantes, estarán en condiciones de:   \\nEntender los conceptos básicos asociados a la gestión del Marketing como medio de generar valor a una \\norganización  \\nContenido Analítico   \\n\\uf0a2 Desarrollo de la gestión empresarial  \\n\\uf0a2 Historia y concepto de la Estrategia  \\n\\uf0a2 Etapas de la planificación y tipos de plan es  \\n\\uf0a2 Proceso del marketing  \\n\\uf0a2 Marketing estratégico vs marketing operativo  \\n  \\nActividades del capítulo  \\nLecturas Básicas:  o   \\n• Libro MARKETING (KOTLER Y ARMSTRONG) CAP. 1.   \\n• Libro MARKETING (KOTLER Y ARMSTRONG) CAP. 2.   \\n \\nLecturas complementarias:', 'Página no. 3 Actividades del capítulo  \\nLecturas Básicas:  o   \\n• Libro MARKETING (KOTLER Y ARMSTRONG) CAP. 1.   \\n• Libro MARKETING (KOTLER Y ARMSTRONG) CAP. 2.   \\n \\nLecturas complementarias:  \\no Artículo MIOPÍA DEL MARKETING (T. LEVITT)  \\no Lectura 5 FUERZAS DE PORTER  \\n  \\nCaso Práctico / Ejercicio Práctico:  \\no Caso 1: KODAK  \\n  \\n•  CAPITULO 2. Análisis del Entorno de Marketing  \\nAl terminar el  presente capitulo, los Postgraduant es, estarán en condiciones de:   \\nComprender la importancia y el uso de herramientas de gestión, del análisis del Macroentorno y Microentorno \\npara la toma de decisiones de Marketing  \\nContenido Analítico   \\n\\uf0a2 Análisis del Macroentorno   \\n\\uf0a2 Análisis del Microentorn o   \\n \\nActividades del capítulo  \\nLecturas Básicas:   \\no Libro MARKETING (KOTLER Y ARMSTRONG) CAP. 3.  \\no Libro MARKETING (KOTLER Y ARMSTRONG) CAP. 4.']\n",
      "['Página no. 4 UAGRM  Business School    Calle Gral. Saavedra Nº 137     Teléfono  3 -366814      www.uagrmbs.edu.bo   \\n  E-mail: solicitudes@uagrmbs.edu.bo   \\n  \\n   ESPECIFICACION  \\n \\nREQUISITOS ACADEMICOS PARA LA REALIZACION DE  \\nUN  MODULO  \\nCódigo: ES -ENA -551  Rev.   6, Fecha:  23-03-12  \\nPág.  4 de 4  \\n  \\n   \\n \\nLecturas complementarias:  \\no Artículo CONSUMIDOR Y COVID 19 (P. KOTLER)  \\n  \\nCaso Práctico / Ejercicio Práctico:  \\no FORO 1 plataforma Moodle  \\no Caso 2: IC NORTE  \\n  \\n•  CAPITULO 3. Análisis de la empresa  \\nAl terminar el  presente capitulo, los Postgraduantes, estarán en condiciones de:   \\nDesarrollar las herramientas de análisis pertinentes para identificar las fortalezas y debilidades de la empresa   \\nContenido Analítico   \\n\\uf0a2 Análisis Identidad de la empresa  \\n\\uf0a2 Perfil estratégico de la empresa  \\n\\uf0a2 Análisis Cadena de Valor  \\n\\uf0a2 Análisis del crecimiento (ANSOFF)  \\n\\uf0a2 Análisis de la cartera de productos (BCG)  \\n\\uf0a2 Benchmarking  \\n  \\nActividades del capítulo  \\nLecturas Básicas:', 'Página no. 4 \\uf0a2 Análisis Cadena de Valor  \\n\\uf0a2 Análisis del crecimiento (ANSOFF)  \\n\\uf0a2 Análisis de la cartera de productos (BCG)  \\n\\uf0a2 Benchmarking  \\n  \\nActividades del capítulo  \\nLecturas Básicas:  \\no  Libro MARKETING (KOTLER Y ARMSTRONG) CAP. 18.   \\n \\nLecturas complementarias:  \\no Lectura METODOLOGÍA MATRIZ BCG  \\n  \\nCaso Práctico / Ejercicio Práctico:  \\no Practico 1: construcción matriz BCG  \\n  \\n \\n•  CAPITULO 4. Comportamiento del consumidor   \\nAl terminar el  presente capitulo, los Postgraduantes, estarán en condi ciones de:   \\nIdentificar los aspectos claves del comportamiento del consumidor antes, durante y después de la compra, \\ncomo asimismo el proceso de toma de decisiones.  \\nContenido Analítico']\n",
      "['Página no. 5 UAGRM  Business School    Calle Gral. Saavedra Nº 137     Teléfono  3 -366814      www.uagrmbs.edu.bo   \\n  E-mail: solicitudes@uagrmbs.edu.bo   \\n  \\n   ESPECIFICACION  \\n \\nREQUISITOS ACADEMICOS PARA LA REALIZACION DE  \\nUN  MODULO  \\nCódigo: ES -ENA -551  Rev.   6, Fecha:  23-03-12  \\nPág.  5 de 4  \\n  \\n   \\n\\uf0a2 Factores internos o psicológicos  \\n\\uf0a2 Factores externos o sociales  \\n\\uf0a2 Proceso de toma de decisiones  \\n\\uf0a2 Participantes o roles del proceso  \\n  \\nActividades del capítulo  \\nLecturas Básicas:  \\no Libro MARKETING (KOTLER Y ARMSTRONG) CAP. 5.   \\no Libro MARKETING (KOTLER Y ARMSTRONG) CAP. 6.   \\n  \\nLecturas complemen tarias:  \\no Artículo METODOLOGÍA MATRIZ BCG  \\no Artículo CADENA DE VALOR (INSTITUTO EMPRESA)   \\n  \\nCaso Práctico / Ejercicio Práctico:  \\no Caso 3: Empresa Sofía   \\n  \\n  \\n•  CAPITULO 5. Segmentación de Mercados   \\nAl terminar el  presente capitulo, los Postgraduantes, estarán en condiciones de:', 'Página no. 5 Caso Práctico / Ejercicio Práctico:  \\no Caso 3: Empresa Sofía   \\n  \\n  \\n•  CAPITULO 5. Segmentación de Mercados   \\nAl terminar el  presente capitulo, los Postgraduantes, estarán en condiciones de:   \\nDesarrollar la metodología para segmentar el mercado e identificar el público objetivo al cual se deben dirigir \\nlos recursos comerciales de una empresa   \\nContenido Analític o   \\n\\uf0a2 Macrosegmentación   \\n\\uf0a2 Microsegmentación  \\n\\uf0a2 Variables de segmentación de consumo  \\n\\uf0a2 Variables de segmentación de negocio  \\n\\uf0a2 Niveles de segmentación  \\n\\uf0a2 Mercado Meta  \\n\\uf0a2 Estrategia de Mercado Meta  \\n  \\nActividades del capítulo  \\nLecturas Básicas:  \\no  Libro MARKETING (KOTLER Y ARMSTRONG) CAP. 7.   \\n  \\nCaso Práctico / Ejercicio Práctico:  \\no FORO 2 plataforma Moodle']\n",
      "['Página no. 6 UAGRM  Business School    Calle Gral. Saavedra Nº 137     Teléfono  3 -366814      www.uagrmbs.edu.bo   \\n  E-mail: solicitudes@uagrmbs.edu.bo   \\n  \\n   ESPECIFICACION  \\n \\nREQUISITOS ACADEMICOS PARA LA REALIZACION DE  \\nUN  MODULO  \\nCódigo: ES -ENA -551  Rev.   6, Fecha:  23-03-12  \\nPág.  6 de 4  \\n  \\n   \\n  \\n  \\n•  CAPITULO 6. Posicionamiento y Branding  \\nAl terminar el  presente capitulo, los Postgraduantes, estarán en condiciones de:   \\nEstablecer el proces o de construcción de posicionamiento de una marca determinada  \\nContenido Analítico   \\n\\uf0a2 Concepto de diferenciación  \\n\\uf0a2 Estrategias de Posicionamiento  \\n\\uf0a2 Proceso del posicionamiento  \\n\\uf0a2 Mapa de posicionamiento  \\n\\uf0a2 Decisiones estratégicas   \\n  \\nActividades del capítulo  \\nLecturas Básicas:  \\no Libro MARKETING (KOTLER Y ARMSTRONG) CAP. 19.   \\no Libro MARKETING (KOTLER Y ARMSTRONG) CAP. 20.   \\n  \\nLecturas complementarias:  \\no Lectura MAPA DE POSICIONAMIENTO  \\no Lectura POSICIONAMIENTO  \\n  \\nCaso Práctico / Ejercicio Práctico:', 'Página no. 6 o Libro MARKETING (KOTLER Y ARMSTRONG) CAP. 20.   \\n  \\nLecturas complementarias:  \\no Lectura MAPA DE POSICIONAMIENTO  \\no Lectura POSICIONAMIENTO  \\n  \\nCaso Práctico / Ejercicio Práctico:  \\no Practico 2: Análisis mapa posicionamiento  \\n  \\n  \\n•  CAPITULO 7. Estrategias de Marketing  \\nAl terminar el  presente capitulo, los Postgraduantes, estarán en condiciones de:   \\nTomar decisiones estratégicas de Marketing que permitan alcanza los objetivos comerciales de una empresa  \\n \\nContenido Analítico   \\n\\uf0a2 Objetivos de Marketing  \\n\\uf0a2 Estrategias Competitivas  \\n\\uf0a2 Estrategias de Marketing  \\n  \\nActividades del capítulo  \\nLecturas Básicas:']\n",
      "['Página no. 7 UAGRM  Business School    Calle Gral. Saavedra Nº 137     Teléfono  3 -366814      www.uagrmbs.edu.bo   \\n  E-mail: solicitudes@uagrmbs.edu.bo   \\n  \\n   ESPECIFICACION  \\n \\nREQUISITOS ACADEMICOS PARA LA REALIZACION DE  \\nUN  MODULO  \\nCódigo: ES -ENA -551  Rev.   6, Fecha:  23-03-12  \\nPág.  7 de 4  \\n  \\n   \\no Libro ESTRATEGIAS DE MARKETING (FERRELL Y HARTLINE) CAP. 2   \\no Libro ESTRATEGIAS DE MARKETING (FERRELL Y HARTLINE) CAP.  \\n12  \\n  \\nLecturas complementarias:  \\no Lectura Estrategia Océano Azul  \\n  \\nCaso Práctico / Ejercicio Práctico:  \\n  \\n•  CAPITULO 8. Marketing Operativo  \\nAl terminar el  presente capitulo, los Postgraduantes, estarán en condiciones de:   \\nTomar decisiones del Marketing Operativo que permitan desarrollar las estrategias de marketing establecidas \\npara alcanzar los objetivos comerciales de una empresa  \\nContenido Analítico   \\n\\uf0a2 Variables del Mk  \\n\\uf0a2 Cronograma y presupuesto  \\n\\uf0a2 Control  \\n  \\nActividades del capítulo  \\nLecturas Básicas:', 'Página no. 7 para alcanzar los objetivos comerciales de una empresa  \\nContenido Analítico   \\n\\uf0a2 Variables del Mk  \\n\\uf0a2 Cronograma y presupuesto  \\n\\uf0a2 Control  \\n  \\nActividades del capítulo  \\nLecturas Básicas:  \\no Libro ESTRATEGIAS DE MARKETING (FERRELL Y HARTLINE) CAP. 19   \\no Libro ESTRATEGIAS DE MARKETING (FERRELL Y HARTLINE) CAP. 20   \\n  \\n  \\n•  CAPITULO 9.  Plan de Marketing y Métricas   \\nAl terminar el  presente capitulo, los Postgraduantes, estarán en condiciones de:   \\nEntender las etapas de un Plan de Marketing como herramienta clave de la gestión comercial de una empresa  \\nContenido Analítico   \\n\\uf0a2 Etapas de un plan de marketing  \\n\\uf0a2 Métricas de Marketing  \\n  \\n  \\nActividades del capítulo  \\nLecturas Básicas:  \\no Libro PLAN DE MARKETING EN EL PRACTICA (SAINZ DE VICUÑA)   \\n \\nCaso Práctico / Ejercicio Práctico:']\n",
      "['Página no. 8 UAGRM  Business School    Calle Gral. Saavedra Nº 137     Teléfono  3 -366814      www.uagrmbs.edu.bo   \\n  E-mail: solicitudes@uagrmbs.edu.bo   \\n  \\n   ESPECIFICACION  \\n \\nREQUISITOS ACADEMICOS PARA LA REALIZACION DE  \\nUN  MODULO  \\nCódigo: ES -ENA -551  Rev.   6, Fecha:  23-03-12  \\nPág.  8 de 4  \\n  \\n   \\no EXAMEN FINAL ( Trabajo Integrador)   \\n   \\nV. METODOLOGIA:  \\nEl módulo se desarrolla con una orientación teórica como práctica.   \\no Contenido Teórico . Se basa en las explicaciones del docente y en el estudio de algunos contenidos del \\ntexto guía y la bibliografía básica. Estos deberán ser ampliados por los participantes con la revisión de la \\nbibliografía complementaria y otras lecturas orientadas según cada tema.   \\no Contenido Práctico. Se basa en la aplicación del contenido teórico en los trabajos desarrollados por los \\npostgraduantes así como  el estudio artículos y casos acerca del contenido del módulo.', 'Página no. 8 o Contenido Práctico. Se basa en la aplicación del contenido teórico en los trabajos desarrollados por los \\npostgraduantes así como  el estudio artículos y casos acerca del contenido del módulo.   \\nEn este marco, no se pretende que el docente \"enseñe\" los temas; sino, más bien que, en ciertos aspectos \\nclave, los profundice y trascienda respondiendo dudas, conduciendo discusiones e introd uciendo nuevos \\nenfoques y experiencias; por lo que, las clases son altamente participativas, durante los cuales se promueve \\nel debate con base a los conocimientos y experiencias de los participantes.  \\n  \\nVI. MEDIOS - RECURSOS  \\nPara un mejor aprovechamiento, los  participantes contarán con anticipación con el Material Académico de \\nApoyo correspondiente al módulo; el cual, según orientación del docente, deberá ser estudiado con \\nanticipación a cada clase, ya que su contenido es fundamental para el cumplimiento de lo s objetivos del \\nmódulo.', 'Página no. 8 anticipación a cada clase, ya que su contenido es fundamental para el cumplimiento de lo s objetivos del \\nmódulo.   \\nAdemás, se considera como medios de apoyo fundamentales para el desarrollo del módulo a:  \\n– Plataforma MOODLE donde encontrará todo el material para el correcto desarrollo del módulo – \\nEncuentros virtuales mediante la plataforma C ISCO WEBEX MEETING   \\n  \\nVII. EVALUACION  \\nEl sistema de evaluación considera una puntuación máxima de cien (100) puntos de los cuales para la \\nAPROBACIÓN del módulo, el Postgraduante deberá acumular un mínimo de sesenta y cuatro (64) puntos:  \\nA este fin, la acumula ción del puntaje correspondiente se realizará según el detalle siguiente:  \\no Participación (10%).  Registro del docente según la participación activa del Postgraduante durante el \\ndesarrollo del módulo.  \\no Trabajos Prácticos  (40%).  Elaboración y presentación de trabajos prácticos individuales y grupales \\nestablecidos durante el desarrollo del módulo.', 'Página no. 8 desarrollo del módulo.  \\no Trabajos Prácticos  (40%).  Elaboración y presentación de trabajos prácticos individuales y grupales \\nestablecidos durante el desarrollo del módulo.  \\no Examen Final  (50%).  Evaluación teórica individual y Evaluación práctica grupal a través de un t rabajo \\nfinal integrador  aplicando el contenido del módulo.  \\nVIII. BIBLIOGRAFIA  \\nLa bibliografía utilizada y recomendada para cubrir los objetivos del módulo es la siguiente:  \\nBibliografía Básica:']\n",
      "['Página no. 9 UAGRM  Business School    Calle Gral. Saavedra Nº 137     Teléfono  3 -366814      www.uagrmbs.edu.bo   \\n  E-mail: solicitudes@uagrmbs.edu.bo   \\n  \\n   ESPECIFICACION  \\n \\nREQUISITOS ACADEMICOS PARA LA REALIZACION DE  \\nUN  MODULO  \\nCódigo: ES -ENA -551  Rev.   6, Fecha:  23-03-12  \\nPág.  9 de 4  \\n  \\n   \\no Kotler Philip, Armstrong Gary, “Marketing”  \\no Ferrell O.C. y Hartline Michael, “Estrategia s de Marketing” o \\n Sainz de Vicuña, José, “El Plan de Marketing en la práctica”  \\n  \\nLecturas Complementarias:  \\no Artículo MIOPÍA DEL MARKETING (T. LEVITT)  \\no Lectura 5 FUERZAS DE PORTER  \\no Artículo CONSUMIDOR Y COVID 19 (P. KOTLER)  \\no Artículo METODOLOGÍA MATRIZ BCG  \\no Artículo CADENA DE VALOR (INSTITUTO EMPRESA)  \\no Lectura METODOLOGÍA MATRIZ BCG  \\no Lectura MAPA DE POSICIONAMIENTO  \\no Lectura POSICIONAMIENTO  \\no Lectura Estrategia Océano Azul']\n"
     ]
    }
   ],
   "source": [
    "from pypdf import PdfReader\n",
    "from langchain.text_splitter import RecursiveCharacterTextSplitter\n",
    "from langchain.vectorstores import FAISS\n",
    "from langchain.embeddings import HuggingFaceEmbeddings # see also sentence-transformers\n",
    "from langchain.chains.question_answering import load_qa_chain\n",
    "from langchain.callbacks import get_openai_callback\n",
    "from src import LLM_gradioAPI\n",
    "\n",
    "reader = PdfReader(\"PROGRAMA ANALITICO MÓDULO.pdf\")\n",
    "#reader = PdfReader(\"PatekPhilippe_P2400_Manual_Winding.pdf\")\n",
    "#reader = PdfReader(\"Philip Kotler, Gary Armstrong - Marketing_ Versión latinoamerica (2007).pdf\")\n",
    "#reader = PdfReader(\"Philip Kotler, Gary Armstrong, Sridhar Balasubramanian - Principles of Marketing-Pearson (2023).pdf\")\n",
    "\n",
    "\n",
    "embeddings = HuggingFaceEmbeddings(model_name=\"sentence-transformers/distiluse-base-multilingual-cased-v1\")\n",
    "VectorStore = FAISS.from_texts([\"\"], embedding=embeddings)\n",
    "text_splitter = RecursiveCharacterTextSplitter(\n",
    "    chunk_size=1000,\n",
    "    chunk_overlap=200,\n",
    "    length_function=len,\n",
    "    add_start_index = False,\n",
    "    )\n",
    "i = 0\n",
    "for page in reader.pages:\n",
    "    i += 1\n",
    "    text = page.extract_text()\n",
    "    #print(page)\n",
    "    chunks = text_splitter.split_text(text=text)\n",
    "    chunks_pages = []\n",
    "    for chunk in chunks:\n",
    "        chunk_wpage = f\"Página no. {i} \" + chunk\n",
    "        chunks_pages.append(chunk_wpage)\n",
    "    print(chunks_pages)\n",
    "    VectorStore.add_texts(chunks_pages)"
   ]
  },
  {
   "cell_type": "code",
   "execution_count": 52,
   "metadata": {},
   "outputs": [
    {
     "ename": "KeyError",
     "evalue": "'page'",
     "output_type": "error",
     "traceback": [
      "\u001b[1;31m---------------------------------------------------------------------------\u001b[0m",
      "\u001b[1;31mKeyError\u001b[0m                                  Traceback (most recent call last)",
      "Cell \u001b[1;32mIn[52], line 6\u001b[0m\n\u001b[0;32m      3\u001b[0m \u001b[39m#docs = loaded_VectorStore.max_marginal_relevance_search(query=query, k=5)\u001b[39;00m\n\u001b[0;32m      5\u001b[0m \u001b[39mfor\u001b[39;00m doc \u001b[39min\u001b[39;00m docs:\n\u001b[1;32m----> 6\u001b[0m     \u001b[39mprint\u001b[39m(\u001b[39mstr\u001b[39m(doc\u001b[39m.\u001b[39;49mmetadata[\u001b[39m\"\u001b[39;49m\u001b[39mpage\u001b[39;49m\u001b[39m\"\u001b[39;49m]) \u001b[39m+\u001b[39m \u001b[39m\"\u001b[39m\u001b[39m:\u001b[39m\u001b[39m\"\u001b[39m, doc\u001b[39m.\u001b[39mpage_content[\u001b[39m300\u001b[39m:\u001b[39m600\u001b[39m])\n",
      "\u001b[1;31mKeyError\u001b[0m: 'page'"
     ]
    }
   ],
   "source": [
    "query = \"Responde en español: ¿Qué es el marketing?\"\n",
    "docs = VectorStore.similarity_search(query=query, k=3)\n",
    "#docs = loaded_VectorStore.max_marginal_relevance_search(query=query, k=5)\n",
    "\n",
    "llm = LLM_gradioAPI(n=100) # hugging face repo\n",
    "chain = load_qa_chain(llm=llm, chain_type=\"stuff\", verbose=True)\n",
    "\n",
    "reference = \"------Also, Write in new lines the initial 10 words of each context for reference.\"\n",
    "with get_openai_callback() as cb:\n",
    "    response = chain.run(input_documents=docs, question=query)\n",
    "    print(cb)\n",
    "print(response)"
   ]
  },
  {
   "cell_type": "markdown",
   "metadata": {},
   "source": [
    "### Using langcahin pypdf loader"
   ]
  },
  {
   "cell_type": "code",
   "execution_count": 76,
   "metadata": {},
   "outputs": [
    {
     "name": "stdout",
     "output_type": "stream",
     "text": [
      "Referencias:\n",
      "\n",
      "Página no.: 17\n",
      " xvi Prefacio\n",
      "CENTRO DE RECURSOS PARA EL INSTRUCTOR: Todos los recursos para el\n",
      "instructor están en inglés y protegidos por una clave, y están disponibles para su descarga en\n",
      "www.pearsoneducacion.net/kotler . Para su comodidad, estos recursos también están dispo-\n",
      "nibles en el CD-ROM de Recursos para el Profesor.\n",
      "■Manual del instructor :Revise este recurso capítulo por capítulo o descargue todo el ma-\n",
      "nual en un archivo comprimido.\n",
      "■Archivo de reactivos para examen :Revise capítulo por capítulo o descargue todo el \n",
      "archivo de reactivos para examen en un archivo comprimido.\n",
      "■TestGen para PC/Mac: Descargue este programa fácil de usar; ya viene incluido en las\n",
      "preguntas de examen y manual del usuario de la decimoprimera edición.\n",
      "■Banco de imágenes (sólo en CD) : Tenga acceso a muchas de las imágenes, anuncios e\n",
      "ilustraciones incluidos en el texto. Ideal para presentaciones con PowerPoint.\n",
      "■Presentaciones en PowerPoint :Cuando se trata de presentaciones en PowerPoint,\n",
      "Página no.: 705\n",
      " Cartas de recomendación y otros documentos de soporte\n",
      "Las cartas de recomendación son referencias escritas por profesores, empleadores actuales yanteriores, y otros individuos que den referencias sobre su carácter, habilidades y capacida-des. Una buena carta de recomendación indica por qué usted sería un excelente candidato pa-ra el puesto. Al elegir a quien va a pedirle la carta de recomendación, asegúrese de que lapersona dará buenos referencias de usted. Además, no piense que esa persona sabe todo acer-ca de usted o del puesto que busca; de preferencia dele su currículum y otros datos relevan-tes. Por cortesía, dé al redactor de la carta de recomendación al menos un mes para hacerla, yadjunte un sobre con sus materiales, franqueado y con su dirección.\n",
      "En el paquete que contenga su currículum, portada y cartas de recomendación, también\n"
     ]
    }
   ],
   "source": [
    "from pypdf import PdfReader\n",
    "from langchain.text_splitter import RecursiveCharacterTextSplitter\n",
    "from langchain.vectorstores import FAISS\n",
    "from langchain.embeddings import HuggingFaceEmbeddings # see also sentence-transformers\n",
    "from langchain.chains.question_answering import load_qa_chain\n",
    "from langchain.callbacks import get_openai_callback\n",
    "from src import LLM_gradioAPI\n",
    "from langchain.document_loaders import PyPDFLoader\n",
    "\n",
    "#reader = PdfReader(\"PROGRAMA ANALITICO MÓDULO.pdf\")\n",
    "#reader = PdfReader(\"PatekPhilippe_P2400_Manual_Winding.pdf\")\n",
    "#reader = PdfReader(\"Philip Kotler, Gary Armstrong - Marketing_ Versión latinoamerica (2007).pdf\")\n",
    "#reader = PdfReader(\"Philip Kotler, Gary Armstrong, Sridhar Balasubramanian - Principles of Marketing-Pearson (2023).pdf\")\n",
    "\n",
    "#loader = PyPDFLoader(\"PROGRAMA ANALITICO MÓDULO.pdf\")\n",
    "loader = PyPDFLoader(\"Philip Kotler, Gary Armstrong - Marketing_ Versión latinoamerica (2007).pdf\")\n",
    "\n",
    "\n",
    "pages = loader.load_and_split()\n",
    "\n",
    "chunks = text_splitter.split_documents(pages)\n",
    "\n",
    "\n",
    "embeddings = HuggingFaceEmbeddings(model_name=\"sentence-transformers/distiluse-base-multilingual-cased-v1\")\n",
    "faiss_index = FAISS.from_documents(chunks, embedding=embeddings)\n"
   ]
  },
  {
   "cell_type": "code",
   "execution_count": 88,
   "metadata": {},
   "outputs": [
    {
     "name": "stdout",
     "output_type": "stream",
     "text": [
      "Loaded as API: https://ysharma-explore-llamav2-with-tgi.hf.space/ ✔\n",
      "El marketing es un proceso social y administrativo mediante el cual los individuos y los grupos obtienen lo que necesitan y desean, creando e intercambiando valor con otros. En el contexto de negocios, el marketing incluye el desarrollo, la producción, la distribución, la promoción y la venta de productos o servicios que satisfagan las necesidades y deseos de los clientes. El marketing directo, por ejemplo, es una forma de marketing que se enfoca en individuos específicos y utiliza cuatro características distintivas: no es público, es inmediato y personalizado, y es interactivo. En resumen, el marketing es una estrategia utilizada para establecer relaciones con los clientes y satisfacer sus necesidades, lo que puede incluir la venta y la promoción de productos o servicios.\n",
      "\n",
      "Referencias:\n",
      "\n",
      "Página no.: 25\n",
      " Definición de marketing\n",
      "¿Qué esel marketing? Mucha gente cree que el marketing sólo consiste en vender y hacer pu-\n",
      "blicidad, lo cual es evidente ya qu...\n",
      "\n",
      "Página no.: 250\n",
      " marketing no dife-\n",
      "renciado (o masivo) . Esto implica producción masiva, distribución\n",
      "masiva y promoción masiva del mismo artículo, casi de la misma f...\n",
      "\n",
      "Página no.: 25\n",
      " Usted ya sabe mucho acerca del marketing, pues está a todo su alrededor. Observe los resul-\n",
      "tados del marketing en la abundancia de productos que exis...\n",
      "\n",
      "Página no.: 25\n",
      " En la actualidad, el marketing debe entenderse, no en el sentido arcaico de realizar una\n",
      "venta (“hablar y vender”), sino en el sentido moderno de sati...\n",
      "\n",
      "Página no.: 468\n",
      " MARKETING DIRECTO Aun cuando hay muchas formas de marketing directo (marketing telefóni-\n",
      "co, por correo directo, on line, etcétera), todas comparten c...\n"
     ]
    }
   ],
   "source": [
    "docs = faiss_index.similarity_search(\"¿Qué es marketing?\", k=5)\n",
    "#docs = loaded_VectorStore.max_marginal_relevance_search(query=query, k=5)\n",
    "\n",
    "llm = LLM_gradioAPI(n=2000) # hugging face repo\n",
    "chain = load_qa_chain(llm=llm, chain_type=\"stuff\", verbose=False)\n",
    "response = chain.run(input_documents=docs, question=query)\n",
    "#with get_openai_callback() as cb:\n",
    "#    response = chain.run(input_documents=docs, question=query)\n",
    "#    print(cb)\n",
    "\n",
    "print(response)\n",
    "print(\"\\nReferencias:\")\n",
    "for doc in docs:\n",
    "    print(\"\\nPágina no.: \" + str(doc.metadata[\"page\"]) + \"\\n\", doc.page_content[:150] + \"...\")"
   ]
  },
  {
   "cell_type": "markdown",
   "metadata": {},
   "source": [
    "### A draft"
   ]
  },
  {
   "cell_type": "code",
   "execution_count": 10,
   "metadata": {},
   "outputs": [],
   "source": [
    "from langchain.text_splitter import RecursiveCharacterTextSplitter\n",
    "from langchain.vectorstores import FAISS\n",
    "from langchain.embeddings import HuggingFaceEmbeddings # see also sentence-transformers\n",
    "from langchain.chains.question_answering import load_qa_chain\n",
    "from langchain.callbacks import get_openai_callback\n",
    "from src import LLM_gradioAPI\n",
    "from langchain.document_loaders import PyPDFLoader # install pypdf\n",
    "from langchain.prompts import PromptTemplate\n",
    "\n",
    "loader = PyPDFLoader(\"PROGRAMA ANALITICO MÓDULO.pdf\")\n",
    "#loader = PyPDFLoader(\"PROGRAMA ANALITICO MÓDULO.pdf\")\n",
    "#loader = PyPDFLoader(\"Philip Kotler, Gary Armstrong - Marketing_ Versión latinoamerica (2007).pdf\")\n",
    "#loader = PyPDFLoader(\"Philip Kotler, Gary Armstrong, Sridhar Balasubramanian - Principles of Marketing-Pearson (2023).pdf\")\n",
    "\n",
    "text_splitter = RecursiveCharacterTextSplitter(\n",
    "    chunk_size=1000,\n",
    "    chunk_overlap=200,\n",
    "    length_function=len,\n",
    "    add_start_index = False,\n",
    "    )\n",
    "\n",
    "pages = loader.load_and_split()\n",
    "chunks = text_splitter.split_documents(pages)\n",
    "embeddings = HuggingFaceEmbeddings(model_name=\"sentence-transformers/distiluse-base-multilingual-cased-v1\")\n",
    "vectordb = FAISS.from_documents(chunks, embedding=embeddings)"
   ]
  },
  {
   "cell_type": "code",
   "execution_count": 12,
   "metadata": {},
   "outputs": [
    {
     "name": "stdout",
     "output_type": "stream",
     "text": [
      "Loaded as API: https://ysharma-explore-llamav2-with-tgi.hf.space/ ✔\n",
      "La docente tiene experiencia en el área comercial y ventas de empresas de servicio como Principal Créditos Hipotecarios, Andueza Corredores de Seguros, Santiago - Chile. Además, ha trabajado en la gerencia de ventas de Joyerías Anahí, Santa Cruz - Bolivia. También ha sido consultora en temas empresariales y de marketing. Además, ha sido docente en pre y postgrado en UTEPSA, UAGRM Business School y UCB.\n",
      "\n",
      "Referencias:\n",
      "\n",
      "Página no.: 7\n",
      " o Contenido Práctico. Se basa en la aplicación del contenido teórico en los trabajos desarrollados por los \n",
      "postgraduantes así como  el estudio artícu...\n",
      "\n",
      "Página no.: 1\n",
      " Experiencia en el área comercial y ventas de empresas de servicio como Principal Créditos Hipotecarios, \n",
      "Andueza Corredores de Seguros, Santiago -Chil...\n",
      "\n",
      "Página no.: 7\n",
      " UAGRM  Business School    Calle Gral. Saavedra Nº 137     Teléfono  3 -366814      www.uagrmbs.edu.bo   \n",
      "  E-mail: solicitudes@uagrmbs.edu.bo   \n",
      "  \n",
      "  ...\n",
      "\n",
      "Página no.: 8\n",
      " UAGRM  Business School    Calle Gral. Saavedra Nº 137     Teléfono  3 -366814      www.uagrmbs.edu.bo   \n",
      "  E-mail: solicitudes@uagrmbs.edu.bo   \n",
      "  \n",
      "  ...\n",
      "\n",
      "Página no.: 2\n",
      " Actividades del capítulo  \n",
      "Lecturas Básicas:  o   \n",
      "• Libro MARKETING (KOTLER Y ARMSTRONG) CAP. 1.   \n",
      "• Libro MARKETING (KOTLER Y ARMSTRONG) CAP. 2.   ...\n"
     ]
    }
   ],
   "source": [
    "query = \"Responde en español: ¿Cuál es la experiencia de la docente?\"\n",
    "docs = vectordb.similarity_search(query, k=5)\n",
    "#docs = loaded_VectorStore.max_marginal_relevance_search(query=query, k=5)\n",
    "\n",
    "llm = LLM_gradioAPI(n=2000) # hugging face repo\n",
    "llm.client_api = \"https://ysharma-explore-llamav2-with-tgi.hf.space/\"\n",
    "llm.api_name = \"/chat_1\"\n",
    "\n",
    "# Build prompt\n",
    "template = \"\"\"Use the following pieces of context to answer the question at the end. Use the same language as the Question. If you don't know the answer, just say that you don't know, don't try to make up an answer.\n",
    "{context}\n",
    "Question: {question}\n",
    "Helpful Answer:\"\"\"\n",
    "QA_CHAIN_PROMPT = PromptTemplate.from_template(template)\n",
    "\n",
    "\n",
    "chain = load_qa_chain(\n",
    "    llm=llm, \n",
    "    chain_type=\"stuff\", \n",
    "    verbose=False,\n",
    "    prompt=QA_CHAIN_PROMPT\n",
    "    )\n",
    "#response = chain.run(input_documents=docs, question=query)\n",
    "#with get_openai_callback() as cb:\n",
    "#    response = chain.run(input_documents=docs, question=query)\n",
    "#    print(cb)\n",
    "\n",
    "response = chain.run(input_documents=docs, question=query)\n",
    "print(response)\n",
    "print(\"\\nReferencias:\")\n",
    "for doc in docs:\n",
    "    print(\"\\nPágina no.: \" + str(doc.metadata[\"page\"]) + \"\\n\", doc.page_content[:150] + \"...\")"
   ]
  },
  {
   "cell_type": "markdown",
   "metadata": {},
   "source": [
    "### Second draft"
   ]
  },
  {
   "cell_type": "code",
   "execution_count": 13,
   "metadata": {},
   "outputs": [],
   "source": [
    "from langchain.text_splitter import RecursiveCharacterTextSplitter\n",
    "from langchain.vectorstores import FAISS\n",
    "from langchain.embeddings import HuggingFaceEmbeddings # see also sentence-transformers\n",
    "from langchain.chains.question_answering import load_qa_chain\n",
    "from langchain.callbacks import get_openai_callback\n",
    "from src import LLM_gradioAPI\n",
    "from langchain.document_loaders import PyPDFLoader # install pypdf\n",
    "from langchain.prompts import PromptTemplate\n",
    "\n",
    "loader = PyPDFLoader(\"PROGRAMA ANALITICO MÓDULO.pdf\")\n",
    "#loader = PyPDFLoader(\"PROGRAMA ANALITICO MÓDULO.pdf\")\n",
    "#loader = PyPDFLoader(\"Philip Kotler, Gary Armstrong - Marketing_ Versión latinoamerica (2007).pdf\")\n",
    "#loader = PyPDFLoader(\"Philip Kotler, Gary Armstrong, Sridhar Balasubramanian - Principles of Marketing-Pearson (2023).pdf\")\n",
    "\n",
    "text_splitter = RecursiveCharacterTextSplitter(\n",
    "    chunk_size=1000,\n",
    "    chunk_overlap=200,\n",
    "    length_function=len,\n",
    "    add_start_index = False,\n",
    "    )\n",
    "\n",
    "pages = loader.load_and_split()\n",
    "chunks = text_splitter.split_documents(pages)\n",
    "embeddings = HuggingFaceEmbeddings(model_name=\"sentence-transformers/distiluse-base-multilingual-cased-v1\")\n",
    "vectordb = FAISS.from_documents(chunks, embedding=embeddings)"
   ]
  },
  {
   "cell_type": "code",
   "execution_count": null,
   "metadata": {},
   "outputs": [],
   "source": []
  },
  {
   "cell_type": "code",
   "execution_count": 49,
   "metadata": {},
   "outputs": [
    {
     "name": "stdout",
     "output_type": "stream",
     "text": [
      "Loaded as API: https://ysharma-explore-llamav2-with-tgi.hf.space/ ✔\n",
      "La docente tiene experiencia en el área comercial y ventas de empresas de servicio, como Principal Créditos Hipotecarios, Andueza Corredores de Seguros, y Joyerías Anahí. Además, ha trabajado en la gerencia de ventas de Joyerías Anahí y ha sido consultora en temas empresariales y de marketing. También ha sido docente en pre y postgrado en UTEPSA, UAGRM Business School y UCB.\n"
     ]
    },
    {
     "data": {
      "text/plain": [
       "{'source': 'PROGRAMA ANALITICO MÓDULO.pdf', 'page': 7}"
      ]
     },
     "execution_count": 49,
     "metadata": {},
     "output_type": "execute_result"
    }
   ],
   "source": [
    "query = \"Responde en español: ¿Cuál es la experiencia de la docente?\"\n",
    "docs = vectordb.similarity_search(query, k=5)\n",
    "#docs = loaded_VectorStore.max_marginal_relevance_search(query=query, k=5)\n",
    "\n",
    "llm = LLM_gradioAPI(n=2000) # hugging face repo\n",
    "llm.client_api = \"https://ysharma-explore-llamav2-with-tgi.hf.space/\"\n",
    "llm.api_name = \"/chat_1\"\n",
    "\n",
    "# Build prompt\n",
    "template = \"\"\"Use the following pieces of context to answer the question at the end. Use the same language as the Question. If you don't know the answer, just say that you don't know, don't try to make up an answer.\n",
    "{context}\n",
    "Question: {question}\n",
    "Helpful Answer:\"\"\"\n",
    "QA_CHAIN_PROMPT = PromptTemplate.from_template(template)\n",
    "\n",
    "from langchain.memory import ConversationBufferMemory\n",
    "memory = ConversationBufferMemory(\n",
    "    memory_key=\"chat_history\",\n",
    "    return_messages=True\n",
    ")\n",
    "\n",
    "from langchain.chains import RetrievalQA\n",
    "\n",
    "qa_chain = RetrievalQA.from_chain_type(\n",
    "    llm,\n",
    "    #memory = memory,\n",
    "    retriever=vectordb.as_retriever(search_type=\"mmr\", search_kwargs={\"k\": 5}),\n",
    "    return_source_documents=True,\n",
    "    chain_type=\"stuff\",\n",
    "    chain_type_kwargs={\"prompt\": QA_CHAIN_PROMPT}\n",
    ")\n",
    "print(result[\"result\"])\n",
    "result[\"source_documents\"][0].metadata"
   ]
  },
  {
   "cell_type": "code",
   "execution_count": 1,
   "metadata": {},
   "outputs": [
    {
     "ename": "NameError",
     "evalue": "name 'llm' is not defined",
     "output_type": "error",
     "traceback": [
      "\u001b[1;31m---------------------------------------------------------------------------\u001b[0m",
      "\u001b[1;31mNameError\u001b[0m                                 Traceback (most recent call last)",
      "Cell \u001b[1;32mIn[1], line 4\u001b[0m\n\u001b[0;32m      1\u001b[0m \u001b[39mfrom\u001b[39;00m \u001b[39mlangchain\u001b[39;00m\u001b[39m.\u001b[39;00m\u001b[39mchains\u001b[39;00m \u001b[39mimport\u001b[39;00m ConversationalRetrievalChain\n\u001b[0;32m      3\u001b[0m qa_chain \u001b[39m=\u001b[39m ConversationalRetrievalChain\u001b[39m.\u001b[39mfrom_llm(\n\u001b[1;32m----> 4\u001b[0m     llm\u001b[39m=\u001b[39mllm, \n\u001b[0;32m      5\u001b[0m     chain_type\u001b[39m=\u001b[39m\u001b[39m\"\u001b[39m\u001b[39mstuff\u001b[39m\u001b[39m\"\u001b[39m, \n\u001b[0;32m      6\u001b[0m     retriever\u001b[39m=\u001b[39mvectordb\u001b[39m.\u001b[39mas_retriever(search_type\u001b[39m=\u001b[39m\u001b[39m\"\u001b[39m\u001b[39mmmr\u001b[39m\u001b[39m\"\u001b[39m, search_kwargs\u001b[39m=\u001b[39m{\u001b[39m\"\u001b[39m\u001b[39mk\u001b[39m\u001b[39m\"\u001b[39m: \u001b[39m5\u001b[39m}),\n\u001b[0;32m      7\u001b[0m     return_source_documents\u001b[39m=\u001b[39m\u001b[39mTrue\u001b[39;00m,\n\u001b[0;32m      8\u001b[0m     return_generated_question\u001b[39m=\u001b[39m\u001b[39mTrue\u001b[39;00m,\n\u001b[0;32m      9\u001b[0m )\n\u001b[0;32m     11\u001b[0m result \u001b[39m=\u001b[39m qa_chain({\u001b[39m\"\u001b[39m\u001b[39mquestion\u001b[39m\u001b[39m\"\u001b[39m: query, \u001b[39m\"\u001b[39m\u001b[39mchat_history\u001b[39m\u001b[39m\"\u001b[39m : []})\n\u001b[0;32m     13\u001b[0m \u001b[39mprint\u001b[39m(result[\u001b[39m\"\u001b[39m\u001b[39manswer\u001b[39m\u001b[39m\"\u001b[39m])\n",
      "\u001b[1;31mNameError\u001b[0m: name 'llm' is not defined"
     ]
    }
   ],
   "source": [
    "\n",
    "from langchain.chains import ConversationalRetrievalChain\n",
    "\n",
    "qa_chain = ConversationalRetrievalChain.from_llm(\n",
    "    llm=llm, \n",
    "    chain_type=\"stuff\", \n",
    "    retriever=vectordb.as_retriever(search_type=\"mmr\", search_kwargs={\"k\": 5}),\n",
    "    return_source_documents=True,\n",
    "    return_generated_question=True,\n",
    ")\n",
    "\n",
    "result = qa_chain({\"question\": query, \"chat_history\" : []})\n",
    "\n",
    "print(result[\"answer\"])\n",
    "result[\"source_documents\"][0].metadata"
   ]
  },
  {
   "cell_type": "markdown",
   "metadata": {},
   "source": [
    "See memory + source doc\n",
    "also, whats the difference between RetrievalQA.from_chain_type and ConversationalRetrievalChain.from_llm"
   ]
  },
  {
   "cell_type": "code",
   "execution_count": 37,
   "metadata": {},
   "outputs": [
    {
     "name": "stdout",
     "output_type": "stream",
     "text": [
      "Loaded as API: https://ysharma-explore-llamav2-with-tgi.hf.space/ ✔\n",
      "La docente tiene experiencia en el área comercial y ventas de empresas de servicio como Principal Créditos Hipotecarios, Andueza Corredores de Seguros, Santiago - Chile. Además, ha trabajado en la gerencia de ventas de Joyerías Anahí, Santa Cruz - Bolivia. También ha sido consultora en temas empresariales y de marketing. Además, ha sido docente en pre y postgrado en UTEPSA, UAGRM Business School y UCB.\n",
      "\n",
      "Referencias:\n",
      "\n",
      "Página no.: 7\n",
      " o Contenido Práctico. Se basa en la aplicación del contenido teórico en los trabajos desarrollados por los \n",
      "postgraduantes así como  el estudio artícu...\n",
      "\n",
      "Página no.: 1\n",
      " Experiencia en el área comercial y ventas de empresas de servicio como Principal Créditos Hipotecarios, \n",
      "Andueza Corredores de Seguros, Santiago -Chil...\n",
      "\n",
      "Página no.: 7\n",
      " UAGRM  Business School    Calle Gral. Saavedra Nº 137     Teléfono  3 -366814      www.uagrmbs.edu.bo   \n",
      "  E-mail: solicitudes@uagrmbs.edu.bo   \n",
      "  \n",
      "  ...\n",
      "\n",
      "Página no.: 8\n",
      " UAGRM  Business School    Calle Gral. Saavedra Nº 137     Teléfono  3 -366814      www.uagrmbs.edu.bo   \n",
      "  E-mail: solicitudes@uagrmbs.edu.bo   \n",
      "  \n",
      "  ...\n",
      "\n",
      "Página no.: 2\n",
      " Actividades del capítulo  \n",
      "Lecturas Básicas:  o   \n",
      "• Libro MARKETING (KOTLER Y ARMSTRONG) CAP. 1.   \n",
      "• Libro MARKETING (KOTLER Y ARMSTRONG) CAP. 2.   ...\n"
     ]
    }
   ],
   "source": [
    "\n",
    "chain = load_qa_chain(\n",
    "    llm=llm, \n",
    "    chain_type=\"stuff\", \n",
    "    verbose=False,\n",
    "    prompt=QA_CHAIN_PROMPT,\n",
    "    #memory=memory\n",
    "    )\n",
    "#response = chain.run(input_documents=docs, question=query)\n",
    "#with get_openai_callback() as cb:\n",
    "#    response = chain.run(input_documents=docs, question=query)\n",
    "#    print(cb)\n",
    "\n",
    "response = chain.run(input_documents=docs, question=query)\n",
    "print(response)\n",
    "print(\"\\nReferencias:\")\n",
    "for doc in docs:\n",
    "    print(\"\\nPágina no.: \" + str(doc.metadata[\"page\"]) + \"\\n\", doc.page_content[:150] + \"...\")"
   ]
  },
  {
   "cell_type": "markdown",
   "metadata": {},
   "source": [
    "### A third draft"
   ]
  },
  {
   "cell_type": "code",
   "execution_count": 1,
   "metadata": {},
   "outputs": [
    {
     "name": "stderr",
     "output_type": "stream",
     "text": [
      "c:\\Users\\anton_glfk00f\\miniconda3\\envs\\llm_app_env\\lib\\site-packages\\tqdm\\auto.py:21: TqdmWarning: IProgress not found. Please update jupyter and ipywidgets. See https://ipywidgets.readthedocs.io/en/stable/user_install.html\n",
      "  from .autonotebook import tqdm as notebook_tqdm\n"
     ]
    }
   ],
   "source": [
    "from langchain.text_splitter import RecursiveCharacterTextSplitter\n",
    "from langchain.vectorstores import FAISS\n",
    "from langchain.embeddings import HuggingFaceEmbeddings # see also sentence-transformers\n",
    "from langchain.chains.question_answering import load_qa_chain\n",
    "from langchain.callbacks import get_openai_callback\n",
    "from src import LLM_gradioAPI\n",
    "from langchain.document_loaders import PyPDFLoader # install pypdf\n",
    "from langchain.prompts import PromptTemplate\n",
    "from langchain.chains import ConversationalRetrievalChain\n",
    "from langchain.memory import ConversationBufferMemory\n",
    "\n",
    "loader = PyPDFLoader(\"PROGRAMA ANALITICO MÓDULO.pdf\")\n",
    "#loader = PyPDFLoader(\"PROGRAMA ANALITICO MÓDULO.pdf\")\n",
    "#loader = PyPDFLoader(\"Philip Kotler, Gary Armstrong - Marketing_ Versión latinoamerica (2007).pdf\")\n",
    "#loader = PyPDFLoader(\"Philip Kotler, Gary Armstrong, Sridhar Balasubramanian - Principles of Marketing-Pearson (2023).pdf\")\n",
    "\n",
    "text_splitter = RecursiveCharacterTextSplitter(\n",
    "    chunk_size=1000,\n",
    "    chunk_overlap=200,\n",
    "    length_function=len,\n",
    "    add_start_index = False,\n",
    "    )\n",
    "\n",
    "pages = loader.load_and_split()\n",
    "chunks = text_splitter.split_documents(pages)\n",
    "embeddings = HuggingFaceEmbeddings(model_name=\"sentence-transformers/distiluse-base-multilingual-cased-v1\")\n",
    "vectordb = FAISS.from_documents(chunks, embedding=embeddings)"
   ]
  },
  {
   "cell_type": "code",
   "execution_count": 2,
   "metadata": {},
   "outputs": [
    {
     "name": "stdout",
     "output_type": "stream",
     "text": [
      "Loaded as API: https://ysharma-explore-llamav2-with-tgi.hf.space/ ✔\n",
      "La docente tiene experiencia en el área comercial y ventas de empresas de servicio, como Principal Créditos Hipotecarios, Andueza Corredores de Seguros, y Joyerías Anahí. Además, ha trabajado como consultora en temas empresariales y de marketing, y ha impartido clases en pre y postgrado en varias universidades, incluyendo la UTEPSA, la UAGRM Business School y la UCB.\n",
      "\n",
      "Referencias:\n",
      "\n",
      "Página no.: 7\n",
      " o Contenido Práctico. Se basa en la aplicación del contenido teórico en los trabajos desarrollados por los \n",
      "postgraduantes así como  el estudio artícu...\n",
      "\n",
      "Página no.: 1\n",
      " Experiencia en el área comercial y ventas de empresas de servicio como Principal Créditos Hipotecarios, \n",
      "Andueza Corredores de Seguros, Santiago -Chil...\n",
      "\n",
      "Página no.: 2\n",
      " Actividades del capítulo  \n",
      "Lecturas Básicas:  o   \n",
      "• Libro MARKETING (KOTLER Y ARMSTRONG) CAP. 1.   \n",
      "• Libro MARKETING (KOTLER Y ARMSTRONG) CAP. 2.   ...\n",
      "\n",
      "Página no.: 4\n",
      " UAGRM  Business School    Calle Gral. Saavedra Nº 137     Teléfono  3 -366814      www.uagrmbs.edu.bo   \n",
      "  E-mail: solicitudes@uagrmbs.edu.bo   \n",
      "  \n",
      "  ...\n",
      "\n",
      "Página no.: 4\n",
      " Caso Práctico / Ejercicio Práctico:  \n",
      "o Caso 3: Empresa Sofía   \n",
      "  \n",
      "  \n",
      "•  CAPITULO 5. Segmentación de Mercados   \n",
      "Al terminar el  presente capitulo, l...\n"
     ]
    }
   ],
   "source": [
    "query = \"¿Cuál es la experiencia de la docente?\"\n",
    "\n",
    "# Define the LLM endpoint\n",
    "llm = LLM_gradioAPI(n=2000) # hugging face repo\n",
    "llm.client_api = \"https://ysharma-explore-llamav2-with-tgi.hf.space/\"\n",
    "llm.api_name = \"/chat_1\"\n",
    "\n",
    "# Build prompt\n",
    "template = \"\"\"Use the following pieces of context to answer the question\\\n",
    "    at the end. Use the same language as the Question. If you don't know\\\n",
    "    the answer, just say that you don't know, don't try to make up an answer.\n",
    "{context}\n",
    "Question: {question}\n",
    "Helpful Answer:\"\"\"\n",
    "QA_CHAIN_PROMPT = PromptTemplate.from_template(template)\n",
    "\n",
    "# Define memory\n",
    "memory = ConversationBufferMemory(\n",
    "    memory_key=\"chat_history\",\n",
    "    #return_messages=True\n",
    ")\n",
    "\n",
    "qa_chain = ConversationalRetrievalChain.from_llm(\n",
    "    llm=llm, \n",
    "    chain_type=\"stuff\", \n",
    "    retriever=vectordb.as_retriever(search_type=\"mmr\", search_kwargs={\"k\": 5}),\n",
    "    return_source_documents=True,\n",
    "    return_generated_question=True,\n",
    ")\n",
    "\n",
    "result = qa_chain({\"question\": query, \"chat_history\" : []})\n",
    "response = result[\"answer\"]\n",
    "source_docs = result[\"source_documents\"]\n",
    "\n",
    "print(response)\n",
    "print(\"\\nReferencias:\")\n",
    "for doc in source_docs:\n",
    "    print(\"\\nPágina no.: \" + str(doc.metadata[\"page\"]) + \"\\n\", doc.page_content[:150] + \"...\")\n"
   ]
  },
  {
   "cell_type": "code",
   "execution_count": 5,
   "metadata": {},
   "outputs": [],
   "source": [
    "from langchain.text_splitter import RecursiveCharacterTextSplitter\n",
    "from langchain.vectorstores import FAISS\n",
    "from langchain.embeddings import HuggingFaceEmbeddings # see also sentence-transformers\n",
    "from src import LLM_gradioAPI\n",
    "from langchain.document_loaders import PyPDFLoader # install pypdf\n",
    "from langchain.prompts import PromptTemplate\n",
    "from langchain.chains import ConversationalRetrievalChain # similar to RetrievalQA but with memory capabilities\n",
    "\n",
    "def qa_convertational_chain_function(\n",
    "        file,\n",
    "        query,\n",
    "        llm,\n",
    "        chain_type,\n",
    "        retreiver_search_type,\n",
    "        retreiver_k,\n",
    "        ):\n",
    "    \n",
    "    \"\"\"\n",
    "    Returns ConversationalRetrievalChain object.\n",
    "    \"\"\"\n",
    "    \n",
    "    query = query\n",
    "\n",
    "    # Build prompt\n",
    "    template = \"\"\"Use the following pieces of context to answer the question\\\n",
    "        at the end. Use the same language as the Question. If you don't know\\\n",
    "        the answer, just say that you don't know, don't try to make up an answer.\n",
    "    {context}\n",
    "    Question: {question}\n",
    "    Helpful Answer:\"\"\"\n",
    "    QA_CHAIN_PROMPT = PromptTemplate.from_template(template)\n",
    "    \n",
    "    # Creating vector db\n",
    "    loader = PyPDFLoader(file)\n",
    "    text_splitter = RecursiveCharacterTextSplitter(\n",
    "        chunk_size=1000,\n",
    "        chunk_overlap=200,\n",
    "        length_function=len,\n",
    "        add_start_index = False,\n",
    "        )\n",
    "    pages = loader.load_and_split()\n",
    "    chunks = text_splitter.split_documents(pages)\n",
    "    embeddings = HuggingFaceEmbeddings(\n",
    "        model_name=\"sentence-transformers/distiluse-base-multilingual-cased-v1\",\n",
    "        cache_folder=\"./sentence_transformers\"\n",
    "        )\n",
    "    vectordb = FAISS.from_documents(chunks, embedding=embeddings)\n",
    "\n",
    "    retreiver = vectordb.as_retriever(\n",
    "        search_type=retreiver_search_type, \n",
    "        search_kwargs={\"k\": retreiver_k}\n",
    "        )\n",
    "\n",
    "    qa_chain = ConversationalRetrievalChain.from_llm(\n",
    "        llm=llm, \n",
    "        chain_type=chain_type, \n",
    "        retriever=retreiver,\n",
    "        return_source_documents=True,\n",
    "        return_generated_question=True,\n",
    "    )\n",
    "    return qa_chain"
   ]
  },
  {
   "cell_type": "code",
   "execution_count": null,
   "metadata": {},
   "outputs": [],
   "source": [
    "# add openai key functionality"
   ]
  },
  {
   "cell_type": "code",
   "execution_count": null,
   "metadata": {},
   "outputs": [],
   "source": [
    "input = {\n",
    "  \"question\": \"What is the capital of France?\",\n",
    "  \"chat_history\": [\n",
    "    {\"role\": \"user\", \"content\": \"Hello!\"},\n",
    "    {\"role\": \"assistant\", \"content\": \"Hi there!\"}\n",
    "  ]\n",
    "}"
   ]
  },
  {
   "cell_type": "code",
   "execution_count": 4,
   "metadata": {},
   "outputs": [
    {
     "data": {
      "text/plain": [
       "[HumanMessage(content='Responde en español: ¿qué enseña la docente?', additional_kwargs={}, example=False),\n",
       " AIMessage(content='La docente enseña temas relacionados con la gestión de marketing, incluyendo el análisis del entorno de marketing, la segmentación de mercados, y la toma de decisiones estratégicas. Ella utiliza una metodología participativa y discutida, donde los postgraduados tienen la oportunidad de aprender a través de la discusión de casos de estudio y la aplicación de teorías empresariales en situaciones simuladas. La docente también proporciona recursos académicos de apoyo y espera que los postgraduados hayan estudiado los temas correspondientes con anticipación para poder aprovechar al máximo las clases.', additional_kwargs={}, example=False)]"
      ]
     },
     "execution_count": 4,
     "metadata": {},
     "output_type": "execute_result"
    }
   ],
   "source": [
    "memory.load_memory_variables({})[\"chat_history\"]"
   ]
  },
  {
   "cell_type": "markdown",
   "metadata": {},
   "source": [
    "### Final draft"
   ]
  },
  {
   "cell_type": "code",
   "execution_count": 1,
   "metadata": {},
   "outputs": [
    {
     "name": "stderr",
     "output_type": "stream",
     "text": [
      "c:\\Users\\anton_glfk00f\\miniconda3\\envs\\llm_app_env\\lib\\site-packages\\tqdm\\auto.py:21: TqdmWarning: IProgress not found. Please update jupyter and ipywidgets. See https://ipywidgets.readthedocs.io/en/stable/user_install.html\n",
      "  from .autonotebook import tqdm as notebook_tqdm\n"
     ]
    }
   ],
   "source": [
    "# Setup\n",
    "from src import LLM_gradioAPI\n",
    "from src import qa_convertational_chain_function\n",
    "\n",
    "# Define the LLM endpoint\n",
    "llm = LLM_gradioAPI(n=2000) # hugging face repo\n",
    "llm.client_api = \"https://ysharma-explore-llamav2-with-tgi.hf.space/\"\n",
    "llm.api_name = \"/chat_1\"\n",
    "\n",
    "file = \"PROGRAMA ANALITICO MÓDULO.pdf\"\n",
    "chain_type = \"stuff\"\n",
    "retreiver_search_type = \"mmr\"\n",
    "retreiver_k = 5\n",
    "\n",
    "from langchain.memory import ConversationBufferMemory\n",
    "memory = ConversationBufferMemory(\n",
    "    memory_key=\"chat_history\",\n",
    "    return_messages=True\n",
    ")\n",
    "response = []\n",
    "qa_chain = qa_convertational_chain_function(file, llm, chain_type, retreiver_search_type, retreiver_k)\n"
   ]
  },
  {
   "cell_type": "code",
   "execution_count": null,
   "metadata": {},
   "outputs": [],
   "source": [
    "# todo: summarize the first 30 pages of doc"
   ]
  },
  {
   "cell_type": "code",
   "execution_count": 2,
   "metadata": {},
   "outputs": [
    {
     "name": "stdout",
     "output_type": "stream",
     "text": [
      "Loaded as API: https://ysharma-explore-llamav2-with-tgi.hf.space/ ✔\n",
      "Sure, I can summarize my previous response for you.\n",
      "\n",
      "The module \"Gestión de Marketing\" aims to provide students with the methodology and tools to understand the market in which businesses compete, and to develop the skills to analyze, diagnose, and make strategic decisions in marketing. The module covers topics such as segmentation, target market selection, and marketing mix.\n",
      "\n",
      "The objectives of the module are to enable students to:\n",
      "\n",
      "1. Understand the importance of marketing and its role in business strategy.\n",
      "2. Analyze the market and identify market segments.\n",
      "3. Develop a marketing plan and implement it effectively.\n",
      "4. Evaluate the effectiveness of marketing strategies and tactics.\n",
      "\n",
      "The module includes case studies and practical exercises to help students apply theoretical concepts to real-world scenarios. The assessment includes participation, practical works, and a final exam.\n",
      "\n",
      "The module is designed to help students develop their analytical, diagnostic, and decision-making skills in marketing, which are essential for a career in marketing management.\n",
      "\n",
      "Referencias:\n",
      "\n",
      "Página no.: 7\n",
      " anticipación a cada clase, ya que su contenido es fundamental para el cumplimiento de lo s objetivos del \n",
      "módulo.   \n",
      "Además, se considera como medios ...\n",
      "\n",
      "Página no.: 4\n",
      " UAGRM  Business School    Calle Gral. Saavedra Nº 137     Teléfono  3 -366814      www.uagrmbs.edu.bo   \n",
      "  E-mail: solicitudes@uagrmbs.edu.bo   \n",
      "  \n",
      "  ...\n",
      "\n",
      "Página no.: 2\n",
      " Actividades del capítulo  \n",
      "Lecturas Básicas:  o   \n",
      "• Libro MARKETING (KOTLER Y ARMSTRONG) CAP. 1.   \n",
      "• Libro MARKETING (KOTLER Y ARMSTRONG) CAP. 2.   ...\n",
      "\n",
      "Página no.: 1\n",
      " Experiencia en el área comercial y ventas de empresas de servicio como Principal Créditos Hipotecarios, \n",
      "Andueza Corredores de Seguros, Santiago -Chil...\n",
      "\n",
      "Página no.: 4\n",
      " Caso Práctico / Ejercicio Práctico:  \n",
      "o Caso 3: Empresa Sofía   \n",
      "  \n",
      "  \n",
      "•  CAPITULO 5. Segmentación de Mercados   \n",
      "Al terminar el  presente capitulo, l...\n"
     ]
    }
   ],
   "source": [
    "query = \"Resume tu anterior respuesta\"\n",
    "\n",
    "result = qa_chain({\n",
    "    \"question\": query,\n",
    "    \"chat_history\" : memory.load_memory_variables({})[\"chat_history\"]\n",
    "    })\n",
    "response = result[\"answer\"]\n",
    "source_docs = result[\"source_documents\"]\n",
    "\n",
    "memory.save_context({\"input\": query}, {\"output\": response})\n",
    "\n",
    "# to do: add reset memory in application\n",
    "\n",
    "print(response)\n",
    "print(\"\\nReferencias:\")\n",
    "for doc in source_docs:\n",
    "    print(\"\\nPágina no.: \" + str(doc.metadata[\"page\"]) + \"\\n\", doc.page_content[:150] + \"...\")"
   ]
  },
  {
   "cell_type": "markdown",
   "metadata": {},
   "source": [
    "### Summarization"
   ]
  },
  {
   "cell_type": "code",
   "execution_count": null,
   "metadata": {},
   "outputs": [],
   "source": [
    "from langchain.chains.mapreduce import MapReduceChain\n",
    "from langchain.text_splitter import CharacterTextSplitter\n",
    "from langchain.chains import ReduceDocumentsChain, MapReduceDocumentsChain\n",
    "\n",
    "llm = ChatOpenAI(temperature=0)\n",
    "\n",
    "# Map\n",
    "map_template = \"\"\"The following is a set of documents\n",
    "{docs}\n",
    "Based on this list of docs, please identify the main themes \n",
    "Helpful Answer:\"\"\"\n",
    "map_prompt = PromptTemplate.from_template(map_template)\n",
    "map_chain = LLMChain(llm=llm, prompt=map_prompt)\n",
    "\n",
    "# Reduce\n",
    "reduce_template = \"\"\"The following is set of summaries:\n",
    "{doc_summaries}\n",
    "Take these and distill it into a final, consolidated summary of the main themes. \n",
    "Helpful Answer:\"\"\"\n",
    "reduce_prompt = PromptTemplate.from_template(reduce_template)\n",
    "reduce_chain = LLMChain(llm=llm, prompt=reduce_prompt)\n",
    "\n",
    "# Takes a list of documents, combines them into a single string, and passes this to an LLMChain\n",
    "combine_documents_chain = StuffDocumentsChain(\n",
    "    llm_chain=reduce_chain, document_variable_name=\"doc_summaries\"\n",
    ")\n",
    "\n",
    "# Combines and iteravely reduces the mapped documents\n",
    "reduce_documents_chain = ReduceDocumentsChain(\n",
    "    # This is final chain that is called.\n",
    "    combine_documents_chain=combine_documents_chain,\n",
    "    # If documents exceed context for `StuffDocumentsChain`\n",
    "    collapse_documents_chain=combine_documents_chain,\n",
    "    # The maximum number of tokens to group documents into.\n",
    "    token_max=4000,\n",
    ")\n",
    "\n",
    "# Combining documents by mapping a chain over them, then combining results\n",
    "map_reduce_chain = MapReduceDocumentsChain(\n",
    "    # Map chain\n",
    "    llm_chain=map_chain,\n",
    "    # Reduce chain\n",
    "    reduce_documents_chain=reduce_documents_chain,\n",
    "    # The variable name in the llm_chain to put the documents in\n",
    "    document_variable_name=\"docs\",\n",
    "    # Return the results of the map steps in the output\n",
    "    return_intermediate_steps=False,\n",
    ")\n",
    "\n",
    "text_splitter = CharacterTextSplitter.from_tiktoken_encoder(\n",
    "    chunk_size=1000, chunk_overlap=0\n",
    ")\n",
    "split_docs = text_splitter.split_documents(docs)"
   ]
  }
 ],
 "metadata": {
  "kernelspec": {
   "display_name": "llm_app_env",
   "language": "python",
   "name": "python3"
  },
  "language_info": {
   "codemirror_mode": {
    "name": "ipython",
    "version": 3
   },
   "file_extension": ".py",
   "mimetype": "text/x-python",
   "name": "python",
   "nbconvert_exporter": "python",
   "pygments_lexer": "ipython3",
   "version": "3.10.12"
  }
 },
 "nbformat": 4,
 "nbformat_minor": 4
}
