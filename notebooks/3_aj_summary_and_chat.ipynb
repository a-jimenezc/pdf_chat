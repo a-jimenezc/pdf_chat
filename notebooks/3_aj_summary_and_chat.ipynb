{
 "cells": [
  {
   "cell_type": "code",
   "execution_count": 5,
   "metadata": {},
   "outputs": [
    {
     "name": "stderr",
     "output_type": "stream",
     "text": [
      "[nltk_data] Downloading package stopwords to\n",
      "[nltk_data]     C:\\Users\\anton_glfk00f\\AppData\\Roaming\\nltk_data...\n",
      "[nltk_data]   Package stopwords is already up-to-date!\n"
     ]
    },
    {
     "name": "stdout",
     "output_type": "stream",
     "text": [
      "Loaded as API: https://ysharma-explore-llamav2-with-tgi.hf.space/ ✔\n"
     ]
    }
   ],
   "source": [
    "from src import LLM_gradioAPI\n",
    "from src import topics_from_pdf\n",
    "\n",
    "# Define the LLM endpoint\n",
    "llm = LLM_gradioAPI(n=2000) # hugging face repo\n",
    "llm.client_api = \"https://ysharma-explore-llamav2-with-tgi.hf.space/\"\n",
    "llm.api_name = \"/chat_1\"\n",
    "\n",
    "#file = \"Philip Kotler, Gary Armstrong - Marketing_ Versión latinoamerica (2007).pdf\"\n",
    "file = \"PROGRAMA ANALITICO MÓDULO.pdf\"\n",
    "#file = \"Philip Kotler, Gary Armstrong, Sridhar Balasubramanian - Principles of Marketing-Pearson (2023).pdf\"\n",
    "#file = \"R46705.pdf\"\n",
    "\n",
    "num_topics = 3\n",
    "words_per_topic = 30 # optimizar\n",
    "\n",
    "topics = topics_from_pdf(llm, file, num_topics, words_per_topic)"
   ]
  },
  {
   "cell_type": "code",
   "execution_count": 6,
   "metadata": {},
   "outputs": [
    {
     "name": "stdout",
     "output_type": "stream",
     "text": [
      "Tema 1: Marketing\n",
      "\n",
      "* Subtema 1: Planificación y estrategia marketing\n",
      "* Subtema 2: Implementación y ejecución de marketing\n",
      "* Subtema 3: Evaluación y medición del éxito marketing\n",
      "\n",
      "Tema 2: Negocios y gestión\n",
      "\n",
      "* Subtema 1: Gestión de empresas y organizaciones\n",
      "* Subtema 2: Desarrollo de habilidades empresariales\n",
      "* Subtema 3: Análisis de casos de negocios y empresariales\n",
      "\n",
      "Tema 3: Educación y aprendizaje\n",
      "\n",
      "* Subtema 1: Enseñanza y aprendizaje de marketing y negocios\n",
      "* Subtema 2: Desarrollo de habilidades y competencias en marketing y negocios\n",
      "* Subtema 3: Evaluación y medición del éxito en la educación y aprendizaje de marketing y negocios\n"
     ]
    }
   ],
   "source": [
    "print(topics)"
   ]
  },
  {
   "cell_type": "code",
   "execution_count": 7,
   "metadata": {},
   "outputs": [],
   "source": [
    "from src import qa_convertational_chain_function\n",
    "from langchain.memory import ConversationBufferMemory\n",
    "\n",
    "chain_type = \"stuff\"\n",
    "retreiver_search_type = \"mmr\"\n",
    "retreiver_k = 5\n",
    "\n",
    "memory = ConversationBufferMemory(\n",
    "    memory_key=\"chat_history\",\n",
    "    return_messages=True\n",
    ")\n",
    "#response = []\n",
    "qa_chain = qa_convertational_chain_function(file, llm, chain_type, retreiver_search_type, retreiver_k)"
   ]
  },
  {
   "cell_type": "code",
   "execution_count": 11,
   "metadata": {},
   "outputs": [
    {
     "name": "stdout",
     "output_type": "stream",
     "text": [
      "Loaded as API: https://ysharma-explore-llamav2-with-tgi.hf.space/ ✔\n",
      "Loaded as API: https://ysharma-explore-llamav2-with-tgi.hf.space/ ✔\n",
      "La gestión de empresas y liderazgo son aspectos clave para el éxito de cualquier organización. La gestión de empresas se refiere al proceso de planificación, organización, dirección y control de las actividades de una empresa para alcanzar sus objetivos comerciales. El liderazgo, por otro lado, se refiere a la capacidad de inspirar y guiar a otros para alcanzar objetivos comunes.\n",
      "\n",
      "Para tener un buen liderazgo y gestión, una empresa debe tener en cuenta varios aspectos importantes. Algunos de estos aspectos son:\n",
      "\n",
      "1. Comunicación efectiva: La comunicación es esencial para el éxito de cualquier empresa. Los líderes deben ser capaces de comunicar sus ideas y objetivos de manera clara y efectiva a sus empleados, y a su vez, los empleados deben ser capaces de comunicar sus ideas y preocupaciones a los líderes.\n",
      "2. Liderazgo por ejemplo: Los líderes deben ser capaces de liderar por ejemplo, mostrando a los empleados cómo se espera que se comporten y trabajen. Est\n",
      "Referencias:\n",
      "\n",
      "Página no.: 7\n",
      "o Contenido Práctico. Se basa en la aplicación del contenido teórico en los trabajos desarrollados por los \n",
      "postgraduantes así como  el estudio artícu...\n",
      "\n",
      "Página no.: 4\n",
      "UAGRM  Business School    Calle Gral. Saavedra Nº 137     Teléfono  3 -366814      www.uagrmbs.edu.bo   \n",
      "  E-mail: solicitudes@uagrmbs.edu.bo   \n",
      "  \n",
      "  ...\n",
      "\n",
      "Página no.: 6\n",
      "para alcanzar los objetivos comerciales de una empresa  \n",
      "Contenido Analítico   \n",
      " Variables del Mk  \n",
      " Cronograma y presupuesto  \n",
      " Control  \n",
      "  \n",
      "Activ...\n",
      "\n",
      "Página no.: 1\n",
      "Experiencia en el área comercial y ventas de empresas de servicio como Principal Créditos Hipotecarios, \n",
      "Andueza Corredores de Seguros, Santiago -Chil...\n",
      "\n",
      "Página no.: 1\n",
      "en la formación de un especialista en Marketing.  \n",
      "  \n",
      "III. OBJETIVO DE APRENDIZAJE DEL \n",
      "MODULO  \n",
      "Objetivo General  \n",
      "Al terminar el módulo, los Postgra...\n"
     ]
    }
   ],
   "source": [
    "#query = \"Explica sobre Desarrollo de aplicaciones y software\"\n",
    "query = \"Qué es Gestión de empresas y liderazgo.\"\n",
    "\n",
    "#query = \"Resume tu anterior respuesta en español\"\n",
    "#query = \"explica sobre La información disponible sobre los miembros del Congreso\"\n",
    "result = qa_chain({\n",
    "    \"question\": query,\n",
    "    \"chat_history\" : memory.load_memory_variables({})[\"chat_history\"]\n",
    "    })\n",
    "response = result[\"answer\"]\n",
    "source_docs = result[\"source_documents\"]\n",
    "\n",
    "memory.save_context({\"input\": query}, {\"output\": response})\n",
    "\n",
    "# to do: add reset memory in application\n",
    "# debug in langchain ui\n",
    "# robust llm call, see other options\n",
    "\n",
    "#start with gradio\n",
    "\n",
    "output_string = response + \"\\nReferencias:\\n\" + \\\n",
    "    \"\\n\".join([\"\\nPágina no.: \" + str(doc.metadata[\"page\"]) + \"\\n\" + doc.page_content[:150] + \"...\" for doc in source_docs])\n",
    "print(output_string)\n"
   ]
  },
  {
   "cell_type": "code",
   "execution_count": null,
   "metadata": {},
   "outputs": [],
   "source": [
    "\n",
    "\n",
    "print(response)\n",
    "print(\"\\nReferencias:\")\n",
    "for doc in source_docs:\n",
    "    print(\"\\nPágina no.: \" + str(doc.metadata[\"page\"]) + \"\\n\", doc.page_content[:150] + \"...\")\n",
    "    "
   ]
  }
 ],
 "metadata": {
  "kernelspec": {
   "display_name": "llm_app_env",
   "language": "python",
   "name": "python3"
  },
  "language_info": {
   "codemirror_mode": {
    "name": "ipython",
    "version": 3
   },
   "file_extension": ".py",
   "mimetype": "text/x-python",
   "name": "python",
   "nbconvert_exporter": "python",
   "pygments_lexer": "ipython3",
   "version": "3.10.12"
  },
  "orig_nbformat": 4
 },
 "nbformat": 4,
 "nbformat_minor": 2
}
