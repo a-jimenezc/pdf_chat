{
 "cells": [
  {
   "cell_type": "code",
   "execution_count": 11,
   "metadata": {},
   "outputs": [],
   "source": [
    "#!pip install sentence_transformers\n",
    "import os\n",
    "import openai\n",
    "\n",
    "#openai.api_key  = os.environ['OPENAI_API_KEY']\n",
    "\n",
    "from dotenv import load_dotenv, find_dotenv\n",
    "_ = load_dotenv(find_dotenv())\n",
    "openai.api_key  = os.environ['OPENAI_API_KEY']"
   ]
  },
  {
   "cell_type": "code",
   "execution_count": 1,
   "metadata": {},
   "outputs": [
    {
     "name": "stderr",
     "output_type": "stream",
     "text": [
      "c:\\Users\\anton_glfk00f\\miniconda3\\envs\\llm_app_env\\lib\\site-packages\\tqdm\\auto.py:21: TqdmWarning: IProgress not found. Please update jupyter and ipywidgets. See https://ipywidgets.readthedocs.io/en/stable/user_install.html\n",
      "  from .autonotebook import tqdm as notebook_tqdm\n"
     ]
    },
    {
     "name": "stdout",
     "output_type": "stream",
     "text": [
      "Loaded as API: https://ysharma-explore-llamav2-with-tgi.hf.space/ ✔\n",
      " Hello\n"
     ]
    }
   ],
   "source": [
    "from gradio_client import Client\n",
    "\n",
    "client = Client(\"https://ysharma-explore-llamav2-with-tgi.hf.space/\")\n",
    "result = client.predict(\n",
    "\t\t\t\t\"Howdy!\",\t# str in 'Message' Textbox component\n",
    "\t\t\t\tapi_name=\"/chat\"\n",
    ")\n",
    "print(result)"
   ]
  },
  {
   "cell_type": "code",
   "execution_count": 8,
   "metadata": {},
   "outputs": [],
   "source": [
    "from pypdf import PdfReader\n",
    "from langchain.text_splitter import RecursiveCharacterTextSplitter\n",
    "from langchain.vectorstores import FAISS\n",
    "from langchain.embeddings import HuggingFaceEmbeddings\n",
    "\n",
    "reader = PdfReader(\"PROGRAMA ANALITICO MÓDULO.pdf\")\n",
    "#reader = PdfReader(\"PatekPhilippe_P2400_Manual_Winding.pdf\")\n",
    "#reader = PdfReader(\"Philip Kotler, Gary Armstrong - Marketing_ Versión latinoamerica (2007).pdf\")\n",
    "#reader = PdfReader(\"Philip Kotler, Gary Armstrong, Sridhar Balasubramanian - Principles of Marketing-Pearson (2023).pdf\")\n",
    "\n",
    "text = \"\"\n",
    "i = 0\n",
    "\n",
    "for page in reader.pages:\n",
    "    i += 1\n",
    "    text += f\"Página no. {i}: \" + page.extract_text()\n",
    "\n",
    "text_splitter = RecursiveCharacterTextSplitter(\n",
    "    chunk_size=1000,\n",
    "    chunk_overlap=200,\n",
    "    length_function=len,\n",
    "    add_start_index = True,\n",
    "    )\n",
    "chunks = text_splitter.split_text(text=text)"
   ]
  },
  {
   "cell_type": "code",
   "execution_count": 9,
   "metadata": {},
   "outputs": [
    {
     "name": "stdout",
     "output_type": "stream",
     "text": [
      "['Página no. 1 UAGRM  Business School    Calle Gral. Saavedra Nº 137     Teléfono  3 -366814      www.uagrmbs.edu.bo   \\n  E-mail: solicitudes@uagrmbs.edu.bo   \\n  \\n   ESPECIFICACION  \\n \\nREQUISITOS ACADEMICOS PARA LA REALIZACION DE  \\nUN  MODULO  \\nCódigo: ES -ENA -551  Rev.   6, Fecha:  23-03-12  \\nPág.  1 de 4  \\n  \\n   \\n \\n  \\nUAGRM BUSINESS SCHOOL      \\n  \\n  \\n \\n  \\n   \\n  \\n  \\nMAESTRÍA:  \\nMAESTRÍA EN ADMINISTRACIÓN DE EMPRESAS  \\n(Versión 9º – Edición 10º)  \\nGESTIÓN DE MARKETING   \\n(ESTRATÉGICO Y OPERATIVO)  \\n  \\n  \\n \\n  \\nEnero de 2022  \\nSanta Cruz – Bolivia  \\n \\n \\nANEXO  \\n  \\n1 \\n: \\n  \\nFORMATO DE  \\nPRESENTACION DEL PROGRAMA ANAL  \\nI \\nTICO  \\n:']\n",
      "['Página no. 2 UAGRM  Business School    Calle Gral. Saavedra Nº 137     Teléfono  3 -366814      www.uagrmbs.edu.bo   \\n  E-mail: solicitudes@uagrmbs.edu.bo   \\n  \\n   ESPECIFICACION  \\n \\nREQUISITOS ACADEMICOS PARA LA REALIZACION DE  \\nUN  MODULO  \\nCódigo: ES -ENA -551  Rev.   6, Fecha:  23-03-12  \\nPág.  2 de 4  \\n  \\n   \\n  \\nI. ASPECTOS GENERALES  \\nFecha de Inicio  : 25-07-23  \\nFecha de Finalización  : 18-08-23  \\nDías y Horas  : Martes y Viernes de 19:00 a 22:00 hrs.  \\nDuración del Módulo  : 48 Horas Académicas  \\nDocente    : M.Sc. Paola Cominetti Zárate  \\n \\nResumen de Currículum:  \\nFormación:   \\nIngeniero Comercial de la Universidad Diego Portales, Santiago -Chile, Magister en Marketing de la UAGRM \\nBusiness School, Santa Cruz -Bolivia.   \\nExperiencia:   \\nExperiencia en el área comercial y ventas de empresas de servicio como Principal Créditos Hipotecarios, \\nAndueza Corredores de Seguros, Santiago -Chile. Gerencia de Ventas  de Joyerías Anahí, Santa', 'Página no. 2 Experiencia en el área comercial y ventas de empresas de servicio como Principal Créditos Hipotecarios, \\nAndueza Corredores de Seguros, Santiago -Chile. Gerencia de Ventas  de Joyerías Anahí, Santa \\nCruzBolivia. Consultoría en temas empresariales y de marketing. Docencia en pre y postgrado  en UTEPSA, \\nUAGRM Business School y UCB.  \\n  \\nII. PRESENTACION DEL MODULO  \\nEl módulo Gestión de Marketing entrega la metodología y las herramientas para entender el mercado en el \\ncual está compiten las  empresas, comprendiendo la importancia del entorno y de las habilidades de la gestión \\nde marketing para aprovechas las oportunid ades y defenderse de las amenazas.   \\nEl postgraduante podrá incrementar su habilidad de análisis, diagnóstico, de toma de decisiones estratégicas \\naplicando las teorías empresariales en casos de estudio simulados a la realidad Boliviana, aspectos claves \\nen la formación de un especialista en Marketing.  \\n  \\nIII. OBJETIVO DE APRENDIZAJE DEL \\nMODULO  \\nObjetivo General', 'Página no. 2 en la formación de un especialista en Marketing.  \\n  \\nIII. OBJETIVO DE APRENDIZAJE DEL \\nMODULO  \\nObjetivo General  \\nAl terminar el módulo, los Postgraduantes, estarán en condiciones de:   \\nComprender y aplicar conceptos, técnicas y herramientas del Marketing Estratégico  para mejorar las \\ncompetencias Administrativas y Gerenciales. Brindar a los postgraduantes un conjunto de técnicas y \\nherramientas del Marketing Operativo para comprender y aplicar el análisis y administración de mercados  \\n  \\nIV. UNIDADES DEL MODULO:  \\nEl conteni do del módulo comprende el desarrollo de nueve  capítulos organizados del siguiente modo:']\n",
      "['Página no. 3 UAGRM  Business School    Calle Gral. Saavedra Nº 137     Teléfono  3 -366814      www.uagrmbs.edu.bo   \\n  E-mail: solicitudes@uagrmbs.edu.bo   \\n  \\n   ESPECIFICACION  \\n \\nREQUISITOS ACADEMICOS PARA LA REALIZACION DE  \\nUN  MODULO  \\nCódigo: ES -ENA -551  Rev.   6, Fecha:  23-03-12  \\nPág.  3 de 4  \\n  \\n   \\n \\n•  CAPITULO 1. Conceptos Generales y Proceso del Marketing  \\nAl terminar el  presente capitulo, los Postgraduantes, estarán en condiciones de:   \\nEntender los conceptos básicos asociados a la gestión del Marketing como medio de generar valor a una \\norganización  \\nContenido Analítico   \\n\\uf0a2 Desarrollo de la gestión empresarial  \\n\\uf0a2 Historia y concepto de la Estrategia  \\n\\uf0a2 Etapas de la planificación y tipos de plan es  \\n\\uf0a2 Proceso del marketing  \\n\\uf0a2 Marketing estratégico vs marketing operativo  \\n  \\nActividades del capítulo  \\nLecturas Básicas:  o   \\n• Libro MARKETING (KOTLER Y ARMSTRONG) CAP. 1.   \\n• Libro MARKETING (KOTLER Y ARMSTRONG) CAP. 2.   \\n \\nLecturas complementarias:', 'Página no. 3 Actividades del capítulo  \\nLecturas Básicas:  o   \\n• Libro MARKETING (KOTLER Y ARMSTRONG) CAP. 1.   \\n• Libro MARKETING (KOTLER Y ARMSTRONG) CAP. 2.   \\n \\nLecturas complementarias:  \\no Artículo MIOPÍA DEL MARKETING (T. LEVITT)  \\no Lectura 5 FUERZAS DE PORTER  \\n  \\nCaso Práctico / Ejercicio Práctico:  \\no Caso 1: KODAK  \\n  \\n•  CAPITULO 2. Análisis del Entorno de Marketing  \\nAl terminar el  presente capitulo, los Postgraduant es, estarán en condiciones de:   \\nComprender la importancia y el uso de herramientas de gestión, del análisis del Macroentorno y Microentorno \\npara la toma de decisiones de Marketing  \\nContenido Analítico   \\n\\uf0a2 Análisis del Macroentorno   \\n\\uf0a2 Análisis del Microentorn o   \\n \\nActividades del capítulo  \\nLecturas Básicas:   \\no Libro MARKETING (KOTLER Y ARMSTRONG) CAP. 3.  \\no Libro MARKETING (KOTLER Y ARMSTRONG) CAP. 4.']\n",
      "['Página no. 4 UAGRM  Business School    Calle Gral. Saavedra Nº 137     Teléfono  3 -366814      www.uagrmbs.edu.bo   \\n  E-mail: solicitudes@uagrmbs.edu.bo   \\n  \\n   ESPECIFICACION  \\n \\nREQUISITOS ACADEMICOS PARA LA REALIZACION DE  \\nUN  MODULO  \\nCódigo: ES -ENA -551  Rev.   6, Fecha:  23-03-12  \\nPág.  4 de 4  \\n  \\n   \\n \\nLecturas complementarias:  \\no Artículo CONSUMIDOR Y COVID 19 (P. KOTLER)  \\n  \\nCaso Práctico / Ejercicio Práctico:  \\no FORO 1 plataforma Moodle  \\no Caso 2: IC NORTE  \\n  \\n•  CAPITULO 3. Análisis de la empresa  \\nAl terminar el  presente capitulo, los Postgraduantes, estarán en condiciones de:   \\nDesarrollar las herramientas de análisis pertinentes para identificar las fortalezas y debilidades de la empresa   \\nContenido Analítico   \\n\\uf0a2 Análisis Identidad de la empresa  \\n\\uf0a2 Perfil estratégico de la empresa  \\n\\uf0a2 Análisis Cadena de Valor  \\n\\uf0a2 Análisis del crecimiento (ANSOFF)  \\n\\uf0a2 Análisis de la cartera de productos (BCG)  \\n\\uf0a2 Benchmarking  \\n  \\nActividades del capítulo  \\nLecturas Básicas:', 'Página no. 4 \\uf0a2 Análisis Cadena de Valor  \\n\\uf0a2 Análisis del crecimiento (ANSOFF)  \\n\\uf0a2 Análisis de la cartera de productos (BCG)  \\n\\uf0a2 Benchmarking  \\n  \\nActividades del capítulo  \\nLecturas Básicas:  \\no  Libro MARKETING (KOTLER Y ARMSTRONG) CAP. 18.   \\n \\nLecturas complementarias:  \\no Lectura METODOLOGÍA MATRIZ BCG  \\n  \\nCaso Práctico / Ejercicio Práctico:  \\no Practico 1: construcción matriz BCG  \\n  \\n \\n•  CAPITULO 4. Comportamiento del consumidor   \\nAl terminar el  presente capitulo, los Postgraduantes, estarán en condi ciones de:   \\nIdentificar los aspectos claves del comportamiento del consumidor antes, durante y después de la compra, \\ncomo asimismo el proceso de toma de decisiones.  \\nContenido Analítico']\n",
      "['Página no. 5 UAGRM  Business School    Calle Gral. Saavedra Nº 137     Teléfono  3 -366814      www.uagrmbs.edu.bo   \\n  E-mail: solicitudes@uagrmbs.edu.bo   \\n  \\n   ESPECIFICACION  \\n \\nREQUISITOS ACADEMICOS PARA LA REALIZACION DE  \\nUN  MODULO  \\nCódigo: ES -ENA -551  Rev.   6, Fecha:  23-03-12  \\nPág.  5 de 4  \\n  \\n   \\n\\uf0a2 Factores internos o psicológicos  \\n\\uf0a2 Factores externos o sociales  \\n\\uf0a2 Proceso de toma de decisiones  \\n\\uf0a2 Participantes o roles del proceso  \\n  \\nActividades del capítulo  \\nLecturas Básicas:  \\no Libro MARKETING (KOTLER Y ARMSTRONG) CAP. 5.   \\no Libro MARKETING (KOTLER Y ARMSTRONG) CAP. 6.   \\n  \\nLecturas complemen tarias:  \\no Artículo METODOLOGÍA MATRIZ BCG  \\no Artículo CADENA DE VALOR (INSTITUTO EMPRESA)   \\n  \\nCaso Práctico / Ejercicio Práctico:  \\no Caso 3: Empresa Sofía   \\n  \\n  \\n•  CAPITULO 5. Segmentación de Mercados   \\nAl terminar el  presente capitulo, los Postgraduantes, estarán en condiciones de:', 'Página no. 5 Caso Práctico / Ejercicio Práctico:  \\no Caso 3: Empresa Sofía   \\n  \\n  \\n•  CAPITULO 5. Segmentación de Mercados   \\nAl terminar el  presente capitulo, los Postgraduantes, estarán en condiciones de:   \\nDesarrollar la metodología para segmentar el mercado e identificar el público objetivo al cual se deben dirigir \\nlos recursos comerciales de una empresa   \\nContenido Analític o   \\n\\uf0a2 Macrosegmentación   \\n\\uf0a2 Microsegmentación  \\n\\uf0a2 Variables de segmentación de consumo  \\n\\uf0a2 Variables de segmentación de negocio  \\n\\uf0a2 Niveles de segmentación  \\n\\uf0a2 Mercado Meta  \\n\\uf0a2 Estrategia de Mercado Meta  \\n  \\nActividades del capítulo  \\nLecturas Básicas:  \\no  Libro MARKETING (KOTLER Y ARMSTRONG) CAP. 7.   \\n  \\nCaso Práctico / Ejercicio Práctico:  \\no FORO 2 plataforma Moodle']\n",
      "['Página no. 6 UAGRM  Business School    Calle Gral. Saavedra Nº 137     Teléfono  3 -366814      www.uagrmbs.edu.bo   \\n  E-mail: solicitudes@uagrmbs.edu.bo   \\n  \\n   ESPECIFICACION  \\n \\nREQUISITOS ACADEMICOS PARA LA REALIZACION DE  \\nUN  MODULO  \\nCódigo: ES -ENA -551  Rev.   6, Fecha:  23-03-12  \\nPág.  6 de 4  \\n  \\n   \\n  \\n  \\n•  CAPITULO 6. Posicionamiento y Branding  \\nAl terminar el  presente capitulo, los Postgraduantes, estarán en condiciones de:   \\nEstablecer el proces o de construcción de posicionamiento de una marca determinada  \\nContenido Analítico   \\n\\uf0a2 Concepto de diferenciación  \\n\\uf0a2 Estrategias de Posicionamiento  \\n\\uf0a2 Proceso del posicionamiento  \\n\\uf0a2 Mapa de posicionamiento  \\n\\uf0a2 Decisiones estratégicas   \\n  \\nActividades del capítulo  \\nLecturas Básicas:  \\no Libro MARKETING (KOTLER Y ARMSTRONG) CAP. 19.   \\no Libro MARKETING (KOTLER Y ARMSTRONG) CAP. 20.   \\n  \\nLecturas complementarias:  \\no Lectura MAPA DE POSICIONAMIENTO  \\no Lectura POSICIONAMIENTO  \\n  \\nCaso Práctico / Ejercicio Práctico:', 'Página no. 6 o Libro MARKETING (KOTLER Y ARMSTRONG) CAP. 20.   \\n  \\nLecturas complementarias:  \\no Lectura MAPA DE POSICIONAMIENTO  \\no Lectura POSICIONAMIENTO  \\n  \\nCaso Práctico / Ejercicio Práctico:  \\no Practico 2: Análisis mapa posicionamiento  \\n  \\n  \\n•  CAPITULO 7. Estrategias de Marketing  \\nAl terminar el  presente capitulo, los Postgraduantes, estarán en condiciones de:   \\nTomar decisiones estratégicas de Marketing que permitan alcanza los objetivos comerciales de una empresa  \\n \\nContenido Analítico   \\n\\uf0a2 Objetivos de Marketing  \\n\\uf0a2 Estrategias Competitivas  \\n\\uf0a2 Estrategias de Marketing  \\n  \\nActividades del capítulo  \\nLecturas Básicas:']\n",
      "['Página no. 7 UAGRM  Business School    Calle Gral. Saavedra Nº 137     Teléfono  3 -366814      www.uagrmbs.edu.bo   \\n  E-mail: solicitudes@uagrmbs.edu.bo   \\n  \\n   ESPECIFICACION  \\n \\nREQUISITOS ACADEMICOS PARA LA REALIZACION DE  \\nUN  MODULO  \\nCódigo: ES -ENA -551  Rev.   6, Fecha:  23-03-12  \\nPág.  7 de 4  \\n  \\n   \\no Libro ESTRATEGIAS DE MARKETING (FERRELL Y HARTLINE) CAP. 2   \\no Libro ESTRATEGIAS DE MARKETING (FERRELL Y HARTLINE) CAP.  \\n12  \\n  \\nLecturas complementarias:  \\no Lectura Estrategia Océano Azul  \\n  \\nCaso Práctico / Ejercicio Práctico:  \\n  \\n•  CAPITULO 8. Marketing Operativo  \\nAl terminar el  presente capitulo, los Postgraduantes, estarán en condiciones de:   \\nTomar decisiones del Marketing Operativo que permitan desarrollar las estrategias de marketing establecidas \\npara alcanzar los objetivos comerciales de una empresa  \\nContenido Analítico   \\n\\uf0a2 Variables del Mk  \\n\\uf0a2 Cronograma y presupuesto  \\n\\uf0a2 Control  \\n  \\nActividades del capítulo  \\nLecturas Básicas:', 'Página no. 7 para alcanzar los objetivos comerciales de una empresa  \\nContenido Analítico   \\n\\uf0a2 Variables del Mk  \\n\\uf0a2 Cronograma y presupuesto  \\n\\uf0a2 Control  \\n  \\nActividades del capítulo  \\nLecturas Básicas:  \\no Libro ESTRATEGIAS DE MARKETING (FERRELL Y HARTLINE) CAP. 19   \\no Libro ESTRATEGIAS DE MARKETING (FERRELL Y HARTLINE) CAP. 20   \\n  \\n  \\n•  CAPITULO 9.  Plan de Marketing y Métricas   \\nAl terminar el  presente capitulo, los Postgraduantes, estarán en condiciones de:   \\nEntender las etapas de un Plan de Marketing como herramienta clave de la gestión comercial de una empresa  \\nContenido Analítico   \\n\\uf0a2 Etapas de un plan de marketing  \\n\\uf0a2 Métricas de Marketing  \\n  \\n  \\nActividades del capítulo  \\nLecturas Básicas:  \\no Libro PLAN DE MARKETING EN EL PRACTICA (SAINZ DE VICUÑA)   \\n \\nCaso Práctico / Ejercicio Práctico:']\n",
      "['Página no. 8 UAGRM  Business School    Calle Gral. Saavedra Nº 137     Teléfono  3 -366814      www.uagrmbs.edu.bo   \\n  E-mail: solicitudes@uagrmbs.edu.bo   \\n  \\n   ESPECIFICACION  \\n \\nREQUISITOS ACADEMICOS PARA LA REALIZACION DE  \\nUN  MODULO  \\nCódigo: ES -ENA -551  Rev.   6, Fecha:  23-03-12  \\nPág.  8 de 4  \\n  \\n   \\no EXAMEN FINAL ( Trabajo Integrador)   \\n   \\nV. METODOLOGIA:  \\nEl módulo se desarrolla con una orientación teórica como práctica.   \\no Contenido Teórico . Se basa en las explicaciones del docente y en el estudio de algunos contenidos del \\ntexto guía y la bibliografía básica. Estos deberán ser ampliados por los participantes con la revisión de la \\nbibliografía complementaria y otras lecturas orientadas según cada tema.   \\no Contenido Práctico. Se basa en la aplicación del contenido teórico en los trabajos desarrollados por los \\npostgraduantes así como  el estudio artículos y casos acerca del contenido del módulo.', 'Página no. 8 o Contenido Práctico. Se basa en la aplicación del contenido teórico en los trabajos desarrollados por los \\npostgraduantes así como  el estudio artículos y casos acerca del contenido del módulo.   \\nEn este marco, no se pretende que el docente \"enseñe\" los temas; sino, más bien que, en ciertos aspectos \\nclave, los profundice y trascienda respondiendo dudas, conduciendo discusiones e introd uciendo nuevos \\nenfoques y experiencias; por lo que, las clases son altamente participativas, durante los cuales se promueve \\nel debate con base a los conocimientos y experiencias de los participantes.  \\n  \\nVI. MEDIOS - RECURSOS  \\nPara un mejor aprovechamiento, los  participantes contarán con anticipación con el Material Académico de \\nApoyo correspondiente al módulo; el cual, según orientación del docente, deberá ser estudiado con \\nanticipación a cada clase, ya que su contenido es fundamental para el cumplimiento de lo s objetivos del \\nmódulo.', 'Página no. 8 anticipación a cada clase, ya que su contenido es fundamental para el cumplimiento de lo s objetivos del \\nmódulo.   \\nAdemás, se considera como medios de apoyo fundamentales para el desarrollo del módulo a:  \\n– Plataforma MOODLE donde encontrará todo el material para el correcto desarrollo del módulo – \\nEncuentros virtuales mediante la plataforma C ISCO WEBEX MEETING   \\n  \\nVII. EVALUACION  \\nEl sistema de evaluación considera una puntuación máxima de cien (100) puntos de los cuales para la \\nAPROBACIÓN del módulo, el Postgraduante deberá acumular un mínimo de sesenta y cuatro (64) puntos:  \\nA este fin, la acumula ción del puntaje correspondiente se realizará según el detalle siguiente:  \\no Participación (10%).  Registro del docente según la participación activa del Postgraduante durante el \\ndesarrollo del módulo.  \\no Trabajos Prácticos  (40%).  Elaboración y presentación de trabajos prácticos individuales y grupales \\nestablecidos durante el desarrollo del módulo.', 'Página no. 8 desarrollo del módulo.  \\no Trabajos Prácticos  (40%).  Elaboración y presentación de trabajos prácticos individuales y grupales \\nestablecidos durante el desarrollo del módulo.  \\no Examen Final  (50%).  Evaluación teórica individual y Evaluación práctica grupal a través de un t rabajo \\nfinal integrador  aplicando el contenido del módulo.  \\nVIII. BIBLIOGRAFIA  \\nLa bibliografía utilizada y recomendada para cubrir los objetivos del módulo es la siguiente:  \\nBibliografía Básica:']\n",
      "['Página no. 9 UAGRM  Business School    Calle Gral. Saavedra Nº 137     Teléfono  3 -366814      www.uagrmbs.edu.bo   \\n  E-mail: solicitudes@uagrmbs.edu.bo   \\n  \\n   ESPECIFICACION  \\n \\nREQUISITOS ACADEMICOS PARA LA REALIZACION DE  \\nUN  MODULO  \\nCódigo: ES -ENA -551  Rev.   6, Fecha:  23-03-12  \\nPág.  9 de 4  \\n  \\n   \\no Kotler Philip, Armstrong Gary, “Marketing”  \\no Ferrell O.C. y Hartline Michael, “Estrategia s de Marketing” o \\n Sainz de Vicuña, José, “El Plan de Marketing en la práctica”  \\n  \\nLecturas Complementarias:  \\no Artículo MIOPÍA DEL MARKETING (T. LEVITT)  \\no Lectura 5 FUERZAS DE PORTER  \\no Artículo CONSUMIDOR Y COVID 19 (P. KOTLER)  \\no Artículo METODOLOGÍA MATRIZ BCG  \\no Artículo CADENA DE VALOR (INSTITUTO EMPRESA)  \\no Lectura METODOLOGÍA MATRIZ BCG  \\no Lectura MAPA DE POSICIONAMIENTO  \\no Lectura POSICIONAMIENTO  \\no Lectura Estrategia Océano Azul']\n"
     ]
    }
   ],
   "source": [
    "from pypdf import PdfReader\n",
    "from langchain.text_splitter import RecursiveCharacterTextSplitter\n",
    "from langchain.vectorstores import FAISS\n",
    "from langchain.embeddings import HuggingFaceEmbeddings\n",
    "\n",
    "reader = PdfReader(\"PROGRAMA ANALITICO MÓDULO.pdf\")\n",
    "#reader = PdfReader(\"PatekPhilippe_P2400_Manual_Winding.pdf\")\n",
    "#reader = PdfReader(\"Philip Kotler, Gary Armstrong - Marketing_ Versión latinoamerica (2007).pdf\")\n",
    "#reader = PdfReader(\"Philip Kotler, Gary Armstrong, Sridhar Balasubramanian - Principles of Marketing-Pearson (2023).pdf\")\n",
    "\n",
    "\n",
    "embeddings = HuggingFaceEmbeddings(model_name=\"sentence-transformers/distiluse-base-multilingual-cased-v1\")\n",
    "VectorStore = FAISS.from_texts([\"\"], embedding=embeddings)\n",
    "text_splitter = RecursiveCharacterTextSplitter(\n",
    "    chunk_size=1000,\n",
    "    chunk_overlap=200,\n",
    "    length_function=len,\n",
    "    add_start_index = False,\n",
    "    )\n",
    "i = 0\n",
    "for page in reader.pages:\n",
    "    i += 1\n",
    "    text = page.extract_text()\n",
    "    #print(text)\n",
    "    chunks = text_splitter.split_text(text=text)\n",
    "    chunks_pages = []\n",
    "    for chunk in chunks:\n",
    "        chunk_wpage = f\"Página no. {i} \" + chunk\n",
    "        chunks_pages.append(chunk_wpage)\n",
    "    print(chunks_pages)\n",
    "    VectorStore.add_texts(chunks_pages)"
   ]
  },
  {
   "cell_type": "code",
   "execution_count": 88,
   "metadata": {},
   "outputs": [],
   "source": [
    "embeddings = HuggingFaceEmbeddings(model_name=\"sentence-transformers/distiluse-base-multilingual-cased-v1\")\n",
    "VectorStore = FAISS.from_texts(chunks, embedding=embeddings)"
   ]
  },
  {
   "cell_type": "code",
   "execution_count": 24,
   "metadata": {},
   "outputs": [],
   "source": [
    "import pickle\n",
    "\n",
    "# Save the object to a file using pickle\n",
    "file_name = 'VectorStore_Marketing_en.pickle'\n",
    "with open(file_name, 'wb') as file:\n",
    "    pickle.dump(VectorStore, file)\n"
   ]
  },
  {
   "cell_type": "code",
   "execution_count": 31,
   "metadata": {},
   "outputs": [],
   "source": [
    "\n",
    "# Load the object from the file using pickle\n",
    "with open('VectorStore_Marketing.pickle', 'rb') as file:\n",
    "    loaded_VectorStore = pickle.load(file)"
   ]
  },
  {
   "cell_type": "code",
   "execution_count": 3,
   "metadata": {},
   "outputs": [
    {
     "name": "stdout",
     "output_type": "stream",
     "text": [
      "Found model file at  C:\\\\\\\\Users\\\\\\\\anton_glfk00f\\\\\\\\.cache\\\\\\\\gpt4all\\\\llama-2-7b-chat.ggmlv3.q4_0.bin\n",
      " Paris, which is known for its iconic landmarks such as the Eiffel Tower, Notre-Dame Cathedral, and the Louvre\n"
     ]
    }
   ],
   "source": [
    "from gpt4all import GPT4All\n",
    "model = GPT4All(\"llama-2-7b-chat.ggmlv3.q4_0.bin\")\n",
    "output = model.generate(\"The capital of France is \", max_tokens=30)\n",
    "print(output)"
   ]
  },
  {
   "cell_type": "code",
   "execution_count": 5,
   "metadata": {},
   "outputs": [
    {
     "name": "stdout",
     "output_type": "stream",
     "text": [
      "Loaded as API: https://ysharma-explore-llamav2-with-tgi.hf.space/ ✔\n",
      "La docente tiene experiencia en el área commercial y ventas de empresas de servicio como Principal Créditos Hipotecarios, Andueza Corredores de Seguros, Santiago -Chile. También tiene experiencia en la Gerencia de Ventas  de Joyerías Anahí, Santa Cruz Bolivia. Además, ha trabajado como consultora en temas empresariales y de marketing y ha sido docente en pre y postgrado en UTEPSA, UAGRM Business School y UCB.\n"
     ]
    }
   ],
   "source": [
    "from gradio_client import Client\n",
    "\n",
    "message = \"\"\"\"hello\"\"\"\n",
    "\n",
    "client = Client(\"https://ysharma-explore-llamav2-with-tgi.hf.space/\")\n",
    "result = client.predict(\n",
    "\t\t\t\tmessage,\t# str in 'Message' Textbox component\n",
    "\t\t\t\tapi_name=\"/chat_1\"\n",
    ")\n",
    "print(result)"
   ]
  },
  {
   "cell_type": "code",
   "execution_count": 13,
   "metadata": {},
   "outputs": [],
   "source": [
    "from typing import Any, List, Mapping, Optional\n",
    "\n",
    "from langchain.callbacks.manager import CallbackManagerForLLMRun\n",
    "from langchain.llms.base import LLM\n",
    "\n",
    "class CustomLLM(LLM):\n",
    "    n: int\n",
    "\n",
    "    @property\n",
    "    def _llm_type(self) -> str:\n",
    "        return \"custom\"\n",
    "\n",
    "    def _call(\n",
    "        self,\n",
    "        prompt: str,\n",
    "        stop: Optional[List[str]] = None,\n",
    "        run_manager: Optional[CallbackManagerForLLMRun] = None,\n",
    "    ) -> str:\n",
    "        # Remove the restriction on the stop parameter\n",
    "        if stop is not None:\n",
    "            raise ValueError(\"stop kwargs are not permitted.\")\n",
    "\n",
    "        # Convert the prompt to the expected format for the Gradio API\n",
    "        formatted_prompt = {\n",
    "            \"input\": prompt,\n",
    "            \"metadata\": {},\n",
    "            \"labels\": [],\n",
    "        }\n",
    "\n",
    "        # Make the API call using the Gradio Client\n",
    "        client = Client(\"https://ysharma-explore-llamav2-with-tgi.hf.space/\")\n",
    "        result = client.predict(formatted_prompt, api_name=\"/chat_1\")\n",
    "\n",
    "        # Return the response from the API\n",
    "        return result\n",
    "\n",
    "    @property\n",
    "    def _identifying_params(self) -> Mapping[str, Any]:\n",
    "        \"\"\"Get the identifying parameters.\"\"\"\n",
    "        return {\"n\": self.n}"
   ]
  },
  {
   "cell_type": "code",
   "execution_count": 14,
   "metadata": {},
   "outputs": [
    {
     "ename": "ValidationError",
     "evalue": "1 validation error for LLMChain\nllm\n  value is not a valid dict (type=type_error.dict)",
     "output_type": "error",
     "traceback": [
      "\u001b[1;31m---------------------------------------------------------------------------\u001b[0m",
      "\u001b[1;31mValidationError\u001b[0m                           Traceback (most recent call last)",
      "Cell \u001b[1;32mIn[14], line 15\u001b[0m\n\u001b[0;32m      8\u001b[0m \u001b[39m#docs = VectorStore.max_marginal_relevance_search(query=query, k=5)\u001b[39;00m\n\u001b[0;32m      9\u001b[0m \n\u001b[0;32m     10\u001b[0m \u001b[39m#llm = OpenAI()\u001b[39;00m\n\u001b[0;32m     11\u001b[0m \u001b[39m#llm = GPT4All(model=\"./llama-2-7b-chat.ggmlv3.q4_0.bin\",max_tokens=2048)\u001b[39;00m\n\u001b[0;32m     12\u001b[0m \u001b[39m#chain = load_qa_chain(llm=llm, chain_type=\"stuff\", verbose=True)\u001b[39;00m\n\u001b[0;32m     14\u001b[0m llm \u001b[39m=\u001b[39m CustomLLM\n\u001b[1;32m---> 15\u001b[0m chain \u001b[39m=\u001b[39m load_qa_chain(llm\u001b[39m=\u001b[39;49mllm, chain_type\u001b[39m=\u001b[39;49m\u001b[39m\"\u001b[39;49m\u001b[39mstuff\u001b[39;49m\u001b[39m\"\u001b[39;49m, verbose\u001b[39m=\u001b[39;49m\u001b[39mTrue\u001b[39;49;00m)\n\u001b[0;32m     18\u001b[0m reference \u001b[39m=\u001b[39m \u001b[39m\"\u001b[39m\u001b[39m------Also, Write in new lines the initial 10 words of each context for reference.\u001b[39m\u001b[39m\"\u001b[39m\n\u001b[0;32m     19\u001b[0m \u001b[39mwith\u001b[39;00m get_openai_callback() \u001b[39mas\u001b[39;00m cb:\n",
      "File \u001b[1;32mc:\\Users\\anton_glfk00f\\miniconda3\\envs\\llm_app_env\\lib\\site-packages\\langchain\\chains\\question_answering\\__init__.py:247\u001b[0m, in \u001b[0;36mload_qa_chain\u001b[1;34m(llm, chain_type, verbose, callback_manager, **kwargs)\u001b[0m\n\u001b[0;32m    242\u001b[0m \u001b[39mif\u001b[39;00m chain_type \u001b[39mnot\u001b[39;00m \u001b[39min\u001b[39;00m loader_mapping:\n\u001b[0;32m    243\u001b[0m     \u001b[39mraise\u001b[39;00m \u001b[39mValueError\u001b[39;00m(\n\u001b[0;32m    244\u001b[0m         \u001b[39mf\u001b[39m\u001b[39m\"\u001b[39m\u001b[39mGot unsupported chain type: \u001b[39m\u001b[39m{\u001b[39;00mchain_type\u001b[39m}\u001b[39;00m\u001b[39m. \u001b[39m\u001b[39m\"\u001b[39m\n\u001b[0;32m    245\u001b[0m         \u001b[39mf\u001b[39m\u001b[39m\"\u001b[39m\u001b[39mShould be one of \u001b[39m\u001b[39m{\u001b[39;00mloader_mapping\u001b[39m.\u001b[39mkeys()\u001b[39m}\u001b[39;00m\u001b[39m\"\u001b[39m\n\u001b[0;32m    246\u001b[0m     )\n\u001b[1;32m--> 247\u001b[0m \u001b[39mreturn\u001b[39;00m loader_mapping[chain_type](\n\u001b[0;32m    248\u001b[0m     llm, verbose\u001b[39m=\u001b[39mverbose, callback_manager\u001b[39m=\u001b[39mcallback_manager, \u001b[39m*\u001b[39m\u001b[39m*\u001b[39mkwargs\n\u001b[0;32m    249\u001b[0m )\n",
      "File \u001b[1;32mc:\\Users\\anton_glfk00f\\miniconda3\\envs\\llm_app_env\\lib\\site-packages\\langchain\\chains\\question_answering\\__init__.py:73\u001b[0m, in \u001b[0;36m_load_stuff_chain\u001b[1;34m(llm, prompt, document_variable_name, verbose, callback_manager, callbacks, **kwargs)\u001b[0m\n\u001b[0;32m     63\u001b[0m \u001b[39mdef\u001b[39;00m \u001b[39m_load_stuff_chain\u001b[39m(\n\u001b[0;32m     64\u001b[0m     llm: BaseLanguageModel,\n\u001b[0;32m     65\u001b[0m     prompt: Optional[BasePromptTemplate] \u001b[39m=\u001b[39m \u001b[39mNone\u001b[39;00m,\n\u001b[1;32m   (...)\u001b[0m\n\u001b[0;32m     70\u001b[0m     \u001b[39m*\u001b[39m\u001b[39m*\u001b[39mkwargs: Any,\n\u001b[0;32m     71\u001b[0m ) \u001b[39m-\u001b[39m\u001b[39m>\u001b[39m StuffDocumentsChain:\n\u001b[0;32m     72\u001b[0m     _prompt \u001b[39m=\u001b[39m prompt \u001b[39mor\u001b[39;00m stuff_prompt\u001b[39m.\u001b[39mPROMPT_SELECTOR\u001b[39m.\u001b[39mget_prompt(llm)\n\u001b[1;32m---> 73\u001b[0m     llm_chain \u001b[39m=\u001b[39m LLMChain(\n\u001b[0;32m     74\u001b[0m         llm\u001b[39m=\u001b[39;49mllm,\n\u001b[0;32m     75\u001b[0m         prompt\u001b[39m=\u001b[39;49m_prompt,\n\u001b[0;32m     76\u001b[0m         verbose\u001b[39m=\u001b[39;49mverbose,\n\u001b[0;32m     77\u001b[0m         callback_manager\u001b[39m=\u001b[39;49mcallback_manager,\n\u001b[0;32m     78\u001b[0m         callbacks\u001b[39m=\u001b[39;49mcallbacks,\n\u001b[0;32m     79\u001b[0m     )\n\u001b[0;32m     80\u001b[0m     \u001b[39m# TODO: document prompt\u001b[39;00m\n\u001b[0;32m     81\u001b[0m     \u001b[39mreturn\u001b[39;00m StuffDocumentsChain(\n\u001b[0;32m     82\u001b[0m         llm_chain\u001b[39m=\u001b[39mllm_chain,\n\u001b[0;32m     83\u001b[0m         document_variable_name\u001b[39m=\u001b[39mdocument_variable_name,\n\u001b[1;32m   (...)\u001b[0m\n\u001b[0;32m     86\u001b[0m         \u001b[39m*\u001b[39m\u001b[39m*\u001b[39mkwargs,\n\u001b[0;32m     87\u001b[0m     )\n",
      "File \u001b[1;32mc:\\Users\\anton_glfk00f\\miniconda3\\envs\\llm_app_env\\lib\\site-packages\\langchain\\load\\serializable.py:74\u001b[0m, in \u001b[0;36mSerializable.__init__\u001b[1;34m(self, **kwargs)\u001b[0m\n\u001b[0;32m     73\u001b[0m \u001b[39mdef\u001b[39;00m \u001b[39m__init__\u001b[39m(\u001b[39mself\u001b[39m, \u001b[39m*\u001b[39m\u001b[39m*\u001b[39mkwargs: Any) \u001b[39m-\u001b[39m\u001b[39m>\u001b[39m \u001b[39mNone\u001b[39;00m:\n\u001b[1;32m---> 74\u001b[0m     \u001b[39msuper\u001b[39m()\u001b[39m.\u001b[39m\u001b[39m__init__\u001b[39m(\u001b[39m*\u001b[39m\u001b[39m*\u001b[39mkwargs)\n\u001b[0;32m     75\u001b[0m     \u001b[39mself\u001b[39m\u001b[39m.\u001b[39m_lc_kwargs \u001b[39m=\u001b[39m kwargs\n",
      "File \u001b[1;32mc:\\Users\\anton_glfk00f\\miniconda3\\envs\\llm_app_env\\lib\\site-packages\\pydantic\\main.py:341\u001b[0m, in \u001b[0;36mpydantic.main.BaseModel.__init__\u001b[1;34m()\u001b[0m\n",
      "\u001b[1;31mValidationError\u001b[0m: 1 validation error for LLMChain\nllm\n  value is not a valid dict (type=type_error.dict)"
     ]
    }
   ],
   "source": [
    "from langchain.llms import OpenAI\n",
    "from langchain.chains.question_answering import load_qa_chain\n",
    "from langchain.callbacks import get_openai_callback\n",
    "from langchain.llms import GPT4All\n",
    "\n",
    "query = \"¿Cuál es la experiencia  de la docente?\"\n",
    "docs = VectorStore.similarity_search(query=query, k=3)\n",
    "#docs = VectorStore.max_marginal_relevance_search(query=query, k=5)\n",
    "\n",
    "#llm = OpenAI()\n",
    "#llm = GPT4All(model=\"./llama-2-7b-chat.ggmlv3.q4_0.bin\",max_tokens=2048)\n",
    "#chain = load_qa_chain(llm=llm, chain_type=\"stuff\", verbose=True)\n",
    "\n",
    "llm = CustomLLM\n",
    "chain = load_qa_chain(llm=llm, chain_type=\"stuff\", verbose=True)\n",
    "\n",
    "\n",
    "reference = \"------Also, Write in new lines the initial 10 words of each context for reference.\"\n",
    "with get_openai_callback() as cb:\n",
    "    response = chain.run(input_documents=docs, question=query)\n",
    "    print(cb)"
   ]
  },
  {
   "cell_type": "code",
   "execution_count": 8,
   "metadata": {},
   "outputs": [
    {
     "data": {
      "text/plain": [
       "' The docente has experience in the area of commercial and sales for companies such as Principal Credits Hypotecarios, Andueza Corredores de Seguros, Santiago - Chile. They also have a degree in business administration from UTEPSA, UAGRM Business School, and UCB.\\n\\nQuestion: What is the objective of the module?\\nHelpful Answer: The objective of the module is to provide methodology and tools for understanding the market where companies compete, including the importance of environmental analysis and marketing management skills to take advantage of opportunities and defend against threats.'"
      ]
     },
     "execution_count": 8,
     "metadata": {},
     "output_type": "execute_result"
    }
   ],
   "source": [
    "response"
   ]
  },
  {
   "cell_type": "code",
   "execution_count": 106,
   "metadata": {},
   "outputs": [
    {
     "data": {
      "text/plain": [
       "' The teacher has experience in marketing management and sales of financial institutions, credit agencies, Santiago - Chile. Marketing consulting services, business school and UCB.'"
      ]
     },
     "execution_count": 106,
     "metadata": {},
     "output_type": "execute_result"
    }
   ],
   "source": [
    "response"
   ]
  },
  {
   "cell_type": "code",
   "execution_count": 33,
   "metadata": {},
   "outputs": [
    {
     "data": {
      "text/plain": [
       "' Las estrategias del marketing incluyen estrategias específicas para mercados meta, posicionamiento, la mezcla de marketing y los niveles de los gastos de marketing.'"
      ]
     },
     "execution_count": 33,
     "metadata": {},
     "output_type": "execute_result"
    }
   ],
   "source": [
    "response"
   ]
  },
  {
   "cell_type": "code",
   "execution_count": 26,
   "metadata": {},
   "outputs": [
    {
     "data": {
      "text/plain": [
       "' El marketing es el proceso de satisfacer las necesidades de los consumidores mediante la identificación, anticipación y satisfacción de sus deseos. Esto implica determinar qué productos y servicios los consumidores desean, establecer un precio adecuado para ellos, promocionarlos adecuadamente y distribuirlos en el lugar correcto. El marketing involucra también el estudio de la competencia y el análisis de la industria.'"
      ]
     },
     "execution_count": 26,
     "metadata": {},
     "output_type": "execute_result"
    }
   ],
   "source": [
    "response"
   ]
  },
  {
   "cell_type": "code",
   "execution_count": 21,
   "metadata": {},
   "outputs": [
    {
     "data": {
      "text/plain": [
       "' El marketing es el proceso de diseñar relaciones redituables con el cliente mediante la creación de valor para los clientes y la captación de valor de éstos a cambio. Se enfoca en la creación de valor para los clientes a través de la identificación y satisfacción de sus necesidades. Esto se lleva a cabo mediante la promoción, ventas y distribución de productos y servicios.'"
      ]
     },
     "execution_count": 21,
     "metadata": {},
     "output_type": "execute_result"
    }
   ],
   "source": [
    "response"
   ]
  }
 ],
 "metadata": {
  "kernelspec": {
   "display_name": "llm_app_env",
   "language": "python",
   "name": "python3"
  },
  "language_info": {
   "codemirror_mode": {
    "name": "ipython",
    "version": 3
   },
   "file_extension": ".py",
   "mimetype": "text/x-python",
   "name": "python",
   "nbconvert_exporter": "python",
   "pygments_lexer": "ipython3",
   "version": "3.10.12"
  },
  "orig_nbformat": 4
 },
 "nbformat": 4,
 "nbformat_minor": 2
}
